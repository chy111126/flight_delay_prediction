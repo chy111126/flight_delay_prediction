{
 "cells": [
  {
   "cell_type": "markdown",
   "metadata": {},
   "source": [
    "In this notebook, we will try to build machine learning model that provides prediction for potential flight claims by delay/cancel."
   ]
  },
  {
   "cell_type": "code",
   "execution_count": 1,
   "metadata": {
    "collapsed": true
   },
   "outputs": [],
   "source": [
    "# Import libraries\n",
    "import pandas as pd, numpy as np, time\n",
    "import lightgbm as lgb\n",
    "\n",
    "from sklearn import metrics\n",
    "from sklearn.model_selection import train_test_split\n",
    "from sklearn.metrics import confusion_matrix, accuracy_score"
   ]
  },
  {
   "cell_type": "markdown",
   "metadata": {},
   "source": [
    "# Naive approach"
   ]
  },
  {
   "cell_type": "markdown",
   "metadata": {},
   "source": [
    "For the most straightforward approach, only the per-record features are used for the prediction. In this case, it consists of a mixture of categorical and numerical values.\n",
    "\n",
    "The prediction is supposed to be a regression problem, as to predict expected monetary claim of all flights. Previous study shows that there are only two is_claim values, thus the model training would be treated as classification problem first (making accuracy measurement easier)."
   ]
  },
  {
   "cell_type": "code",
   "execution_count": 116,
   "metadata": {},
   "outputs": [
    {
     "data": {
      "text/plain": [
       "Index(['flight_id', 'flight_no', 'Week', 'Departure', 'Arrival', 'Airline',\n",
       "       'std_hour', 'delay_time', 'flight_date', 'is_claim'],\n",
       "      dtype='object')"
      ]
     },
     "execution_count": 116,
     "metadata": {},
     "output_type": "execute_result"
    }
   ],
   "source": [
    "# Load the dataset\n",
    "data_df = pd.read_csv('../datasets/flight_delays_data.csv')\n",
    "\n",
    "# Check data columns\n",
    "data_df.columns"
   ]
  },
  {
   "cell_type": "markdown",
   "metadata": {},
   "source": [
    "We first modify the columns for model training:"
   ]
  },
  {
   "cell_type": "code",
   "execution_count": 117,
   "metadata": {
    "collapsed": true
   },
   "outputs": [],
   "source": [
    "# Transform categorical features to numerical labels such that the ML model can utilize those features properly\n",
    "cat_feats = ['flight_no', 'Week', 'Departure','Arrival','Airline','std_hour']\n",
    "for cat_col in cat_feats:\n",
    "    data_df[cat_col] = data_df[cat_col].astype(\"category\").cat.codes + 1"
   ]
  },
  {
   "cell_type": "code",
   "execution_count": 118,
   "metadata": {
    "collapsed": true
   },
   "outputs": [],
   "source": [
    "# For target is_claim, since we know there are only two values, the plan is to transform it into boolean variable\n",
    "# It is easier for measuring accuracy in this way. In the actual model, we can ignore this part and do regression on is_claim amount instead.\n",
    "def set_is_claim(val):\n",
    "    if val == 0:\n",
    "        return 0\n",
    "    else:\n",
    "        return 1\n",
    "data_df['is_claim_bool'] = data_df[\"is_claim\"].apply(set_is_claim)"
   ]
  },
  {
   "cell_type": "code",
   "execution_count": 119,
   "metadata": {
    "scrolled": true
   },
   "outputs": [
    {
     "data": {
      "text/html": [
       "<div>\n",
       "<style>\n",
       "    .dataframe thead tr:only-child th {\n",
       "        text-align: right;\n",
       "    }\n",
       "\n",
       "    .dataframe thead th {\n",
       "        text-align: left;\n",
       "    }\n",
       "\n",
       "    .dataframe tbody tr th {\n",
       "        vertical-align: top;\n",
       "    }\n",
       "</style>\n",
       "<table border=\"1\" class=\"dataframe\">\n",
       "  <thead>\n",
       "    <tr style=\"text-align: right;\">\n",
       "      <th></th>\n",
       "      <th>flight_id</th>\n",
       "      <th>flight_no</th>\n",
       "      <th>Week</th>\n",
       "      <th>Departure</th>\n",
       "      <th>Arrival</th>\n",
       "      <th>Airline</th>\n",
       "      <th>std_hour</th>\n",
       "      <th>delay_time</th>\n",
       "      <th>flight_date</th>\n",
       "      <th>is_claim</th>\n",
       "      <th>is_claim_bool</th>\n",
       "    </tr>\n",
       "  </thead>\n",
       "  <tbody>\n",
       "    <tr>\n",
       "      <th>55396</th>\n",
       "      <td>171544</td>\n",
       "      <td>CX418</td>\n",
       "      <td>23</td>\n",
       "      <td>1</td>\n",
       "      <td>62</td>\n",
       "      <td>28</td>\n",
       "      <td>15</td>\n",
       "      <td>0.1</td>\n",
       "      <td>2014-06-08</td>\n",
       "      <td>0</td>\n",
       "      <td>0</td>\n",
       "    </tr>\n",
       "    <tr>\n",
       "      <th>83262</th>\n",
       "      <td>257911</td>\n",
       "      <td>CX412</td>\n",
       "      <td>8</td>\n",
       "      <td>1</td>\n",
       "      <td>62</td>\n",
       "      <td>28</td>\n",
       "      <td>1</td>\n",
       "      <td>0.0</td>\n",
       "      <td>2015-02-23</td>\n",
       "      <td>0</td>\n",
       "      <td>0</td>\n",
       "    </tr>\n",
       "    <tr>\n",
       "      <th>658483</th>\n",
       "      <td>2046981</td>\n",
       "      <td>CA108</td>\n",
       "      <td>21</td>\n",
       "      <td>1</td>\n",
       "      <td>112</td>\n",
       "      <td>26</td>\n",
       "      <td>11</td>\n",
       "      <td>0.0</td>\n",
       "      <td>2014-05-25</td>\n",
       "      <td>0</td>\n",
       "      <td>0</td>\n",
       "    </tr>\n",
       "    <tr>\n",
       "      <th>600359</th>\n",
       "      <td>1867275</td>\n",
       "      <td>CX472</td>\n",
       "      <td>39</td>\n",
       "      <td>1</td>\n",
       "      <td>142</td>\n",
       "      <td>28</td>\n",
       "      <td>16</td>\n",
       "      <td>0.7</td>\n",
       "      <td>2015-09-29</td>\n",
       "      <td>0</td>\n",
       "      <td>0</td>\n",
       "    </tr>\n",
       "    <tr>\n",
       "      <th>719645</th>\n",
       "      <td>2236392</td>\n",
       "      <td>HX1892</td>\n",
       "      <td>41</td>\n",
       "      <td>1</td>\n",
       "      <td>142</td>\n",
       "      <td>47</td>\n",
       "      <td>10</td>\n",
       "      <td>0.1</td>\n",
       "      <td>2014-10-11</td>\n",
       "      <td>0</td>\n",
       "      <td>0</td>\n",
       "    </tr>\n",
       "    <tr>\n",
       "      <th>250180</th>\n",
       "      <td>777909</td>\n",
       "      <td>KA5494</td>\n",
       "      <td>23</td>\n",
       "      <td>1</td>\n",
       "      <td>142</td>\n",
       "      <td>54</td>\n",
       "      <td>11</td>\n",
       "      <td>0.3</td>\n",
       "      <td>2016-06-08</td>\n",
       "      <td>0</td>\n",
       "      <td>0</td>\n",
       "    </tr>\n",
       "    <tr>\n",
       "      <th>405789</th>\n",
       "      <td>1262636</td>\n",
       "      <td>B65301</td>\n",
       "      <td>16</td>\n",
       "      <td>1</td>\n",
       "      <td>129</td>\n",
       "      <td>18</td>\n",
       "      <td>9</td>\n",
       "      <td>0.7</td>\n",
       "      <td>2016-04-16</td>\n",
       "      <td>0</td>\n",
       "      <td>0</td>\n",
       "    </tr>\n",
       "    <tr>\n",
       "      <th>132868</th>\n",
       "      <td>412117</td>\n",
       "      <td>MH73</td>\n",
       "      <td>28</td>\n",
       "      <td>1</td>\n",
       "      <td>81</td>\n",
       "      <td>68</td>\n",
       "      <td>15</td>\n",
       "      <td>0.0</td>\n",
       "      <td>2015-07-12</td>\n",
       "      <td>0</td>\n",
       "      <td>0</td>\n",
       "    </tr>\n",
       "    <tr>\n",
       "      <th>428202</th>\n",
       "      <td>1331853</td>\n",
       "      <td>KA5564</td>\n",
       "      <td>17</td>\n",
       "      <td>1</td>\n",
       "      <td>142</td>\n",
       "      <td>54</td>\n",
       "      <td>14</td>\n",
       "      <td>0.4</td>\n",
       "      <td>2015-04-29</td>\n",
       "      <td>0</td>\n",
       "      <td>0</td>\n",
       "    </tr>\n",
       "    <tr>\n",
       "      <th>729515</th>\n",
       "      <td>2266900</td>\n",
       "      <td>CX532</td>\n",
       "      <td>37</td>\n",
       "      <td>1</td>\n",
       "      <td>103</td>\n",
       "      <td>28</td>\n",
       "      <td>17</td>\n",
       "      <td>0.5</td>\n",
       "      <td>2015-09-15</td>\n",
       "      <td>0</td>\n",
       "      <td>0</td>\n",
       "    </tr>\n",
       "  </tbody>\n",
       "</table>\n",
       "</div>"
      ],
      "text/plain": [
       "        flight_id flight_no  Week  Departure  Arrival  Airline  std_hour  \\\n",
       "55396      171544     CX418    23          1       62       28        15   \n",
       "83262      257911     CX412     8          1       62       28         1   \n",
       "658483    2046981     CA108    21          1      112       26        11   \n",
       "600359    1867275     CX472    39          1      142       28        16   \n",
       "719645    2236392    HX1892    41          1      142       47        10   \n",
       "250180     777909    KA5494    23          1      142       54        11   \n",
       "405789    1262636    B65301    16          1      129       18         9   \n",
       "132868     412117      MH73    28          1       81       68        15   \n",
       "428202    1331853    KA5564    17          1      142       54        14   \n",
       "729515    2266900     CX532    37          1      103       28        17   \n",
       "\n",
       "       delay_time flight_date  is_claim  is_claim_bool  \n",
       "55396         0.1  2014-06-08         0              0  \n",
       "83262         0.0  2015-02-23         0              0  \n",
       "658483        0.0  2014-05-25         0              0  \n",
       "600359        0.7  2015-09-29         0              0  \n",
       "719645        0.1  2014-10-11         0              0  \n",
       "250180        0.3  2016-06-08         0              0  \n",
       "405789        0.7  2016-04-16         0              0  \n",
       "132868        0.0  2015-07-12         0              0  \n",
       "428202        0.4  2015-04-29         0              0  \n",
       "729515        0.5  2015-09-15         0              0  "
      ]
     },
     "execution_count": 119,
     "metadata": {},
     "output_type": "execute_result"
    }
   ],
   "source": [
    "# Check transformed result\n",
    "data_df.sample(10)"
   ]
  },
  {
   "cell_type": "code",
   "execution_count": 120,
   "metadata": {
    "collapsed": true
   },
   "outputs": [],
   "source": [
    "# Get x/y columns\n",
    "x_all = data_df[cat_feats]\n",
    "y_all = data_df['is_claim_bool']\n",
    "\n",
    "# Split training/testing set\n",
    "train, test, y_train, y_test = train_test_split(x_all, y_all,\n",
    "                                                random_state=10, test_size=0.1)"
   ]
  },
  {
   "cell_type": "markdown",
   "metadata": {},
   "source": [
    "There are several machine learning models that can tackle this problem. It is decided to use ensemble method (i.e. GBDT in particular) as it is relatively easier to tune for (in contrast to something like NN models that requires tuning network structure), and the underlying decision tree makes it easier to interpret for feature importance."
   ]
  },
  {
   "cell_type": "code",
   "execution_count": 121,
   "metadata": {},
   "outputs": [
    {
     "name": "stderr",
     "output_type": "stream",
     "text": [
      "D:\\Anaconda3\\lib\\site-packages\\lightgbm\\engine.py:102: UserWarning: Found `n_estimators` in params. Will use it instead of argument\n",
      "  warnings.warn(\"Found `{}` in params. Will use it instead of argument\".format(alias))\n",
      "D:\\Anaconda3\\lib\\site-packages\\lightgbm\\basic.py:1042: UserWarning: categorical_feature in Dataset is overridden. New categorical_feature is ['Airline', 'Arrival', 'Departure', 'Week', 'std_hour']\n",
      "  warnings.warn('categorical_feature in Dataset is overridden. New categorical_feature is {}'.format(sorted(list(categorical_feature))))\n"
     ]
    }
   ],
   "source": [
    "# For gradient boosting, lightGBM is used\n",
    "# The parameters are fixed in this stage\n",
    "lg = lgb.LGBMClassifier(silent=False)\n",
    "d_train = lgb.Dataset(train, label=y_train)\n",
    "params = {\"max_depth\": 50, \"learning_rate\" : 0.1, \"num_leaves\": 900,  \"n_estimators\": 300}\n",
    "\n",
    "# Train model with catgeorical features\n",
    "model = lgb.train(params, d_train, categorical_feature = cat_feats)"
   ]
  },
  {
   "cell_type": "code",
   "execution_count": 122,
   "metadata": {
    "collapsed": true
   },
   "outputs": [],
   "source": [
    "# Get testing set result\n",
    "y_pred = model.predict(test).round()"
   ]
  },
  {
   "cell_type": "code",
   "execution_count": 123,
   "metadata": {
    "collapsed": true
   },
   "outputs": [],
   "source": [
    "# We check the score of testing set result in two ways\n",
    "# Confusion matrix\n",
    "cm = confusion_matrix(y_test, y_pred)\n",
    "\n",
    "# Accuracy\n",
    "accuracy=accuracy_score(y_pred,y_test)"
   ]
  },
  {
   "cell_type": "code",
   "execution_count": 124,
   "metadata": {},
   "outputs": [
    {
     "data": {
      "text/plain": [
       "array([[85623,   299],\n",
       "       [ 3437,   553]], dtype=int64)"
      ]
     },
     "execution_count": 124,
     "metadata": {},
     "output_type": "execute_result"
    }
   ],
   "source": [
    "cm"
   ]
  },
  {
   "cell_type": "code",
   "execution_count": 125,
   "metadata": {},
   "outputs": [
    {
     "data": {
      "text/plain": [
       "0.95844826052139875"
      ]
     },
     "execution_count": 125,
     "metadata": {},
     "output_type": "execute_result"
    }
   ],
   "source": [
    "accuracy"
   ]
  },
  {
   "cell_type": "markdown",
   "metadata": {},
   "source": [
    "This shows a classic pitfall for a prediction model. Although the model shows a 95% accuracy, the confusion matrix shows that there are 3274 cases of actual needed-to-be-claimed flights, but mis-classified as normal flights. The correct classified ratio of delay/cancel flights in this case would be 553 / (3274 + 553) ~= 14%."
   ]
  },
  {
   "cell_type": "code",
   "execution_count": 126,
   "metadata": {
    "collapsed": true
   },
   "outputs": [],
   "source": [
    "# Get whole set result\n",
    "y_all_pred = model.predict(x_all).round()"
   ]
  },
  {
   "cell_type": "code",
   "execution_count": 127,
   "metadata": {},
   "outputs": [
    {
     "name": "stdout",
     "output_type": "stream",
     "text": [
      "[[857805   1896]\n",
      " [ 32473   6940]]\n",
      "0.961774591431\n"
     ]
    }
   ],
   "source": [
    "# We check the score of testing set result in two ways\n",
    "# Confusion matrix\n",
    "cm = confusion_matrix(y_all, y_all_pred)\n",
    "\n",
    "# Accuracy\n",
    "accuracy=accuracy_score(y_all_pred,y_all)\n",
    "\n",
    "print(cm)\n",
    "print(accuracy)"
   ]
  },
  {
   "cell_type": "code",
   "execution_count": 131,
   "metadata": {},
   "outputs": [
    {
     "name": "stdout",
     "output_type": "stream",
     "text": [
      "Per split importance:  [95997     0 64434 47466 61803]\n",
      "Per gain importance:  [ 15049.09899168      0.          15557.58651388   8390.33865381\n",
      "  11378.6986177 ]\n"
     ]
    }
   ],
   "source": [
    "# ['Week', 'Departure','Arrival','Airline','std_hour']\n",
    "print(\"Per split importance: \", model.feature_importance(importance_type='split'))\n",
    "print(\"Per gain importance: \", model.feature_importance(importance_type='gain'))"
   ]
  },
  {
   "cell_type": "markdown",
   "metadata": {},
   "source": [
    "# Feature engineering approach"
   ]
  },
  {
   "cell_type": "code",
   "execution_count": 28,
   "metadata": {},
   "outputs": [
    {
     "data": {
      "text/plain": [
       "Index(['Unnamed: 0', 'flight_id', 'flight_no', 'Week', 'Departure', 'Arrival',\n",
       "       'Airline', 'std_hour', 'delay_time', 'flight_date', 'is_claim',\n",
       "       'flight_date_dt', 'flight_dt', 'flight_year', 'flight_month',\n",
       "       'flight_day', 'flight_hour_bin', 'flight_ts', 'flight_day_ts',\n",
       "       'flight_wk_ts', 'dep_hr_delay_time', 'arr_hr_delay_time',\n",
       "       'air_hr_delay_time', 'dep_day_delay_time', 'arr_day_delay_time',\n",
       "       'air_day_delay_time', 'dep_wk_delay_time', 'arr_wk_delay_time',\n",
       "       'air_wk_delay_time', 'dep_hr_delay_count', 'arr_hr_delay_count',\n",
       "       'air_hr_delay_count', 'dep_hr_cancel_count', 'arr_hr_cancel_count',\n",
       "       'air_hr_cancel_count'],\n",
       "      dtype='object')"
      ]
     },
     "execution_count": 28,
     "metadata": {},
     "output_type": "execute_result"
    }
   ],
   "source": [
    "# Load the dataset\n",
    "data_df = pd.read_csv('../datasets/flight_delays_data_transformed.csv')\n",
    "\n",
    "# Check data size\n",
    "data_df.columns"
   ]
  },
  {
   "cell_type": "code",
   "execution_count": 74,
   "metadata": {
    "collapsed": true
   },
   "outputs": [],
   "source": [
    "# Transform categorical features to numerical labels such that the ML model can utilize those features properly\n",
    "all_feats = ['flight_no', 'Week', 'Departure','Arrival','Airline','std_hour', \n",
    "             'dep_hr_delay_time', 'arr_hr_delay_time', 'air_hr_delay_time', \n",
    "             'dep_day_delay_time', 'arr_day_delay_time', 'air_day_delay_time', \n",
    "             'dep_wk_delay_time', 'arr_wk_delay_time', 'air_wk_delay_time', \n",
    "             #'dep_hr_delay_count', 'arr_hr_delay_count', 'air_hr_delay_count', \n",
    "             'dep_hr_cancel_count', 'arr_hr_cancel_count', 'air_hr_cancel_count'\n",
    "            ]\n",
    "cat_feats = ['flight_no', 'Week', 'Departure','Arrival','Airline','std_hour']\n",
    "for cat_col in cat_feats:\n",
    "    data_df[cat_col] = data_df[cat_col].astype(\"category\").cat.codes + 1"
   ]
  },
  {
   "cell_type": "code",
   "execution_count": 75,
   "metadata": {
    "collapsed": true
   },
   "outputs": [],
   "source": [
    "# For target is_claim, since we know there are only two values, the plan is to transform it into boolean variable\n",
    "# It is easier for measuring accuracy in this way. In the actual model, we can ignore this part and do regression on is_claim amount instead.\n",
    "def set_is_claim(val):\n",
    "    if val == 0:\n",
    "        return 0\n",
    "    else:\n",
    "        return 1\n",
    "data_df['is_claim_bool'] = data_df[\"is_claim\"].apply(set_is_claim)"
   ]
  },
  {
   "cell_type": "code",
   "execution_count": 76,
   "metadata": {
    "scrolled": true
   },
   "outputs": [
    {
     "data": {
      "text/html": [
       "<div>\n",
       "<style>\n",
       "    .dataframe thead tr:only-child th {\n",
       "        text-align: right;\n",
       "    }\n",
       "\n",
       "    .dataframe thead th {\n",
       "        text-align: left;\n",
       "    }\n",
       "\n",
       "    .dataframe tbody tr th {\n",
       "        vertical-align: top;\n",
       "    }\n",
       "</style>\n",
       "<table border=\"1\" class=\"dataframe\">\n",
       "  <thead>\n",
       "    <tr style=\"text-align: right;\">\n",
       "      <th></th>\n",
       "      <th>Unnamed: 0</th>\n",
       "      <th>flight_id</th>\n",
       "      <th>flight_no</th>\n",
       "      <th>Week</th>\n",
       "      <th>Departure</th>\n",
       "      <th>Arrival</th>\n",
       "      <th>Airline</th>\n",
       "      <th>std_hour</th>\n",
       "      <th>delay_time</th>\n",
       "      <th>flight_date</th>\n",
       "      <th>...</th>\n",
       "      <th>dep_wk_delay_time</th>\n",
       "      <th>arr_wk_delay_time</th>\n",
       "      <th>air_wk_delay_time</th>\n",
       "      <th>dep_hr_delay_count</th>\n",
       "      <th>arr_hr_delay_count</th>\n",
       "      <th>air_hr_delay_count</th>\n",
       "      <th>dep_hr_cancel_count</th>\n",
       "      <th>arr_hr_cancel_count</th>\n",
       "      <th>air_hr_cancel_count</th>\n",
       "      <th>is_claim_bool</th>\n",
       "    </tr>\n",
       "  </thead>\n",
       "  <tbody>\n",
       "    <tr>\n",
       "      <th>396787</th>\n",
       "      <td>396787</td>\n",
       "      <td>1234700</td>\n",
       "      <td>1947</td>\n",
       "      <td>23</td>\n",
       "      <td>1</td>\n",
       "      <td>95</td>\n",
       "      <td>87</td>\n",
       "      <td>14</td>\n",
       "      <td>0.6</td>\n",
       "      <td>2014-06-06</td>\n",
       "      <td>...</td>\n",
       "      <td>0.277003</td>\n",
       "      <td>0.337963</td>\n",
       "      <td>0.247619</td>\n",
       "      <td>51.0</td>\n",
       "      <td>NaN</td>\n",
       "      <td>NaN</td>\n",
       "      <td>2.0</td>\n",
       "      <td>NaN</td>\n",
       "      <td>NaN</td>\n",
       "      <td>0</td>\n",
       "    </tr>\n",
       "    <tr>\n",
       "      <th>898398</th>\n",
       "      <td>898398</td>\n",
       "      <td>2791285</td>\n",
       "      <td>1100</td>\n",
       "      <td>40</td>\n",
       "      <td>1</td>\n",
       "      <td>8</td>\n",
       "      <td>45</td>\n",
       "      <td>19</td>\n",
       "      <td>0.4</td>\n",
       "      <td>2015-10-01</td>\n",
       "      <td>...</td>\n",
       "      <td>0.669462</td>\n",
       "      <td>0.473469</td>\n",
       "      <td>0.810638</td>\n",
       "      <td>57.0</td>\n",
       "      <td>NaN</td>\n",
       "      <td>NaN</td>\n",
       "      <td>1.0</td>\n",
       "      <td>NaN</td>\n",
       "      <td>NaN</td>\n",
       "      <td>0</td>\n",
       "    </tr>\n",
       "    <tr>\n",
       "      <th>888118</th>\n",
       "      <td>888118</td>\n",
       "      <td>2759031</td>\n",
       "      <td>942</td>\n",
       "      <td>52</td>\n",
       "      <td>1</td>\n",
       "      <td>112</td>\n",
       "      <td>30</td>\n",
       "      <td>14</td>\n",
       "      <td>-0.1</td>\n",
       "      <td>2013-12-31</td>\n",
       "      <td>...</td>\n",
       "      <td>0.308407</td>\n",
       "      <td>0.334571</td>\n",
       "      <td>0.233333</td>\n",
       "      <td>44.0</td>\n",
       "      <td>6.0</td>\n",
       "      <td>1.0</td>\n",
       "      <td>NaN</td>\n",
       "      <td>NaN</td>\n",
       "      <td>NaN</td>\n",
       "      <td>0</td>\n",
       "    </tr>\n",
       "    <tr>\n",
       "      <th>714589</th>\n",
       "      <td>714589</td>\n",
       "      <td>2220934</td>\n",
       "      <td>5</td>\n",
       "      <td>41</td>\n",
       "      <td>1</td>\n",
       "      <td>129</td>\n",
       "      <td>3</td>\n",
       "      <td>21</td>\n",
       "      <td>0.0</td>\n",
       "      <td>2013-10-12</td>\n",
       "      <td>...</td>\n",
       "      <td>0.230985</td>\n",
       "      <td>0.142657</td>\n",
       "      <td>0.223810</td>\n",
       "      <td>47.0</td>\n",
       "      <td>2.0</td>\n",
       "      <td>NaN</td>\n",
       "      <td>1.0</td>\n",
       "      <td>NaN</td>\n",
       "      <td>NaN</td>\n",
       "      <td>0</td>\n",
       "    </tr>\n",
       "    <tr>\n",
       "      <th>575617</th>\n",
       "      <td>575617</td>\n",
       "      <td>1791131</td>\n",
       "      <td>288</td>\n",
       "      <td>10</td>\n",
       "      <td>1</td>\n",
       "      <td>16</td>\n",
       "      <td>22</td>\n",
       "      <td>15</td>\n",
       "      <td>0.0</td>\n",
       "      <td>2015-03-09</td>\n",
       "      <td>...</td>\n",
       "      <td>0.308513</td>\n",
       "      <td>-0.007143</td>\n",
       "      <td>-0.014286</td>\n",
       "      <td>43.0</td>\n",
       "      <td>NaN</td>\n",
       "      <td>NaN</td>\n",
       "      <td>NaN</td>\n",
       "      <td>NaN</td>\n",
       "      <td>NaN</td>\n",
       "      <td>0</td>\n",
       "    </tr>\n",
       "    <tr>\n",
       "      <th>504099</th>\n",
       "      <td>504099</td>\n",
       "      <td>1568294</td>\n",
       "      <td>1744</td>\n",
       "      <td>6</td>\n",
       "      <td>1</td>\n",
       "      <td>10</td>\n",
       "      <td>69</td>\n",
       "      <td>17</td>\n",
       "      <td>0.6</td>\n",
       "      <td>2016-02-05</td>\n",
       "      <td>...</td>\n",
       "      <td>0.855728</td>\n",
       "      <td>0.588571</td>\n",
       "      <td>0.725926</td>\n",
       "      <td>66.0</td>\n",
       "      <td>NaN</td>\n",
       "      <td>1.0</td>\n",
       "      <td>NaN</td>\n",
       "      <td>NaN</td>\n",
       "      <td>NaN</td>\n",
       "      <td>0</td>\n",
       "    </tr>\n",
       "    <tr>\n",
       "      <th>591136</th>\n",
       "      <td>591136</td>\n",
       "      <td>1838690</td>\n",
       "      <td>1497</td>\n",
       "      <td>19</td>\n",
       "      <td>1</td>\n",
       "      <td>72</td>\n",
       "      <td>55</td>\n",
       "      <td>12</td>\n",
       "      <td>1.0</td>\n",
       "      <td>2016-05-10</td>\n",
       "      <td>...</td>\n",
       "      <td>0.567523</td>\n",
       "      <td>0.452459</td>\n",
       "      <td>0.569295</td>\n",
       "      <td>43.0</td>\n",
       "      <td>1.0</td>\n",
       "      <td>5.0</td>\n",
       "      <td>3.0</td>\n",
       "      <td>NaN</td>\n",
       "      <td>NaN</td>\n",
       "      <td>0</td>\n",
       "    </tr>\n",
       "    <tr>\n",
       "      <th>265388</th>\n",
       "      <td>265388</td>\n",
       "      <td>825385</td>\n",
       "      <td>1184</td>\n",
       "      <td>45</td>\n",
       "      <td>1</td>\n",
       "      <td>142</td>\n",
       "      <td>48</td>\n",
       "      <td>22</td>\n",
       "      <td>0.7</td>\n",
       "      <td>2014-11-09</td>\n",
       "      <td>...</td>\n",
       "      <td>0.186430</td>\n",
       "      <td>0.208031</td>\n",
       "      <td>0.271986</td>\n",
       "      <td>40.0</td>\n",
       "      <td>2.0</td>\n",
       "      <td>NaN</td>\n",
       "      <td>NaN</td>\n",
       "      <td>NaN</td>\n",
       "      <td>NaN</td>\n",
       "      <td>0</td>\n",
       "    </tr>\n",
       "    <tr>\n",
       "      <th>456041</th>\n",
       "      <td>456041</td>\n",
       "      <td>1418759</td>\n",
       "      <td>415</td>\n",
       "      <td>45</td>\n",
       "      <td>1</td>\n",
       "      <td>142</td>\n",
       "      <td>28</td>\n",
       "      <td>11</td>\n",
       "      <td>1.6</td>\n",
       "      <td>2014-11-07</td>\n",
       "      <td>...</td>\n",
       "      <td>0.186430</td>\n",
       "      <td>0.208031</td>\n",
       "      <td>0.640000</td>\n",
       "      <td>37.0</td>\n",
       "      <td>7.0</td>\n",
       "      <td>NaN</td>\n",
       "      <td>NaN</td>\n",
       "      <td>NaN</td>\n",
       "      <td>NaN</td>\n",
       "      <td>0</td>\n",
       "    </tr>\n",
       "    <tr>\n",
       "      <th>866517</th>\n",
       "      <td>866517</td>\n",
       "      <td>2692353</td>\n",
       "      <td>1371</td>\n",
       "      <td>42</td>\n",
       "      <td>1</td>\n",
       "      <td>74</td>\n",
       "      <td>51</td>\n",
       "      <td>11</td>\n",
       "      <td>0.1</td>\n",
       "      <td>2014-10-15</td>\n",
       "      <td>...</td>\n",
       "      <td>0.179385</td>\n",
       "      <td>0.235338</td>\n",
       "      <td>0.092611</td>\n",
       "      <td>46.0</td>\n",
       "      <td>1.0</td>\n",
       "      <td>3.0</td>\n",
       "      <td>3.0</td>\n",
       "      <td>NaN</td>\n",
       "      <td>NaN</td>\n",
       "      <td>0</td>\n",
       "    </tr>\n",
       "  </tbody>\n",
       "</table>\n",
       "<p>10 rows × 36 columns</p>\n",
       "</div>"
      ],
      "text/plain": [
       "        Unnamed: 0  flight_id  flight_no  Week  Departure  Arrival  Airline  \\\n",
       "396787      396787    1234700       1947    23          1       95       87   \n",
       "898398      898398    2791285       1100    40          1        8       45   \n",
       "888118      888118    2759031        942    52          1      112       30   \n",
       "714589      714589    2220934          5    41          1      129        3   \n",
       "575617      575617    1791131        288    10          1       16       22   \n",
       "504099      504099    1568294       1744     6          1       10       69   \n",
       "591136      591136    1838690       1497    19          1       72       55   \n",
       "265388      265388     825385       1184    45          1      142       48   \n",
       "456041      456041    1418759        415    45          1      142       28   \n",
       "866517      866517    2692353       1371    42          1       74       51   \n",
       "\n",
       "        std_hour delay_time flight_date      ...        dep_wk_delay_time  \\\n",
       "396787        14        0.6  2014-06-06      ...                 0.277003   \n",
       "898398        19        0.4  2015-10-01      ...                 0.669462   \n",
       "888118        14       -0.1  2013-12-31      ...                 0.308407   \n",
       "714589        21        0.0  2013-10-12      ...                 0.230985   \n",
       "575617        15        0.0  2015-03-09      ...                 0.308513   \n",
       "504099        17        0.6  2016-02-05      ...                 0.855728   \n",
       "591136        12        1.0  2016-05-10      ...                 0.567523   \n",
       "265388        22        0.7  2014-11-09      ...                 0.186430   \n",
       "456041        11        1.6  2014-11-07      ...                 0.186430   \n",
       "866517        11        0.1  2014-10-15      ...                 0.179385   \n",
       "\n",
       "       arr_wk_delay_time air_wk_delay_time  dep_hr_delay_count  \\\n",
       "396787          0.337963          0.247619                51.0   \n",
       "898398          0.473469          0.810638                57.0   \n",
       "888118          0.334571          0.233333                44.0   \n",
       "714589          0.142657          0.223810                47.0   \n",
       "575617         -0.007143         -0.014286                43.0   \n",
       "504099          0.588571          0.725926                66.0   \n",
       "591136          0.452459          0.569295                43.0   \n",
       "265388          0.208031          0.271986                40.0   \n",
       "456041          0.208031          0.640000                37.0   \n",
       "866517          0.235338          0.092611                46.0   \n",
       "\n",
       "        arr_hr_delay_count  air_hr_delay_count  dep_hr_cancel_count  \\\n",
       "396787                 NaN                 NaN                  2.0   \n",
       "898398                 NaN                 NaN                  1.0   \n",
       "888118                 6.0                 1.0                  NaN   \n",
       "714589                 2.0                 NaN                  1.0   \n",
       "575617                 NaN                 NaN                  NaN   \n",
       "504099                 NaN                 1.0                  NaN   \n",
       "591136                 1.0                 5.0                  3.0   \n",
       "265388                 2.0                 NaN                  NaN   \n",
       "456041                 7.0                 NaN                  NaN   \n",
       "866517                 1.0                 3.0                  3.0   \n",
       "\n",
       "        arr_hr_cancel_count  air_hr_cancel_count  is_claim_bool  \n",
       "396787                  NaN                  NaN              0  \n",
       "898398                  NaN                  NaN              0  \n",
       "888118                  NaN                  NaN              0  \n",
       "714589                  NaN                  NaN              0  \n",
       "575617                  NaN                  NaN              0  \n",
       "504099                  NaN                  NaN              0  \n",
       "591136                  NaN                  NaN              0  \n",
       "265388                  NaN                  NaN              0  \n",
       "456041                  NaN                  NaN              0  \n",
       "866517                  NaN                  NaN              0  \n",
       "\n",
       "[10 rows x 36 columns]"
      ]
     },
     "execution_count": 76,
     "metadata": {},
     "output_type": "execute_result"
    }
   ],
   "source": [
    "# Check transformed result\n",
    "data_df.sample(10)"
   ]
  },
  {
   "cell_type": "code",
   "execution_count": 77,
   "metadata": {
    "collapsed": true
   },
   "outputs": [],
   "source": [
    "# Get x/y columns\n",
    "x_all = data_df[all_feats]\n",
    "y_all = data_df['is_claim_bool']\n",
    "\n",
    "# Split training/testing set\n",
    "train, test, y_train, y_test = train_test_split(x_all, y_all,\n",
    "                                                random_state=10, test_size=0.1)"
   ]
  },
  {
   "cell_type": "code",
   "execution_count": 78,
   "metadata": {},
   "outputs": [
    {
     "name": "stderr",
     "output_type": "stream",
     "text": [
      "D:\\Anaconda3\\lib\\site-packages\\lightgbm\\engine.py:102: UserWarning: Found `n_estimators` in params. Will use it instead of argument\n",
      "  warnings.warn(\"Found `{}` in params. Will use it instead of argument\".format(alias))\n",
      "D:\\Anaconda3\\lib\\site-packages\\lightgbm\\basic.py:1042: UserWarning: categorical_feature in Dataset is overridden. New categorical_feature is ['Airline', 'Arrival', 'Departure', 'Week', 'flight_no', 'std_hour']\n",
      "  warnings.warn('categorical_feature in Dataset is overridden. New categorical_feature is {}'.format(sorted(list(categorical_feature))))\n"
     ]
    }
   ],
   "source": [
    "# For gradient boosting, lightGBM is used\n",
    "# The parameters are fixed in this stage\n",
    "lg = lgb.LGBMClassifier(silent=False)\n",
    "d_train = lgb.Dataset(train, label=y_train)\n",
    "params = {\"max_depth\": 50, \"learning_rate\" : 0.1, \"num_leaves\": 900,  \"n_estimators\": 300}\n",
    "\n",
    "# Train model with catgeorical features\n",
    "model = lgb.train(params, d_train, categorical_feature = cat_feats)"
   ]
  },
  {
   "cell_type": "code",
   "execution_count": 79,
   "metadata": {
    "collapsed": true
   },
   "outputs": [],
   "source": [
    "# Get testing set result\n",
    "y_pred = model.predict(test).round()"
   ]
  },
  {
   "cell_type": "code",
   "execution_count": 80,
   "metadata": {
    "collapsed": true
   },
   "outputs": [],
   "source": [
    "# We check the score of testing set result in two ways\n",
    "# Confusion matrix\n",
    "cm = confusion_matrix(y_test, y_pred)\n",
    "\n",
    "# Accuracy\n",
    "accuracy=accuracy_score(y_pred,y_test)"
   ]
  },
  {
   "cell_type": "code",
   "execution_count": 81,
   "metadata": {},
   "outputs": [
    {
     "data": {
      "text/plain": [
       "array([[85658,   264],\n",
       "       [ 2346,  1644]], dtype=int64)"
      ]
     },
     "execution_count": 81,
     "metadata": {},
     "output_type": "execute_result"
    }
   ],
   "source": [
    "cm"
   ]
  },
  {
   "cell_type": "code",
   "execution_count": 82,
   "metadata": {},
   "outputs": [
    {
     "data": {
      "text/plain": [
       "0.97097161669187648"
      ]
     },
     "execution_count": 82,
     "metadata": {},
     "output_type": "execute_result"
    }
   ],
   "source": [
    "accuracy"
   ]
  },
  {
   "cell_type": "code",
   "execution_count": 83,
   "metadata": {
    "collapsed": true
   },
   "outputs": [],
   "source": [
    "# Get whole set result\n",
    "y_all_pred = model.predict(x_all).round()"
   ]
  },
  {
   "cell_type": "code",
   "execution_count": 84,
   "metadata": {},
   "outputs": [
    {
     "name": "stdout",
     "output_type": "stream",
     "text": [
      "[[859405    296]\n",
      " [  8621  30792]]\n",
      "0.990082458954\n"
     ]
    },
    {
     "data": {
      "text/plain": [
       "'\\n# With cancel count only:\\n[[859411    290]\\n [  8524  30889]]\\n0.990197016174\\n'"
      ]
     },
     "execution_count": 84,
     "metadata": {},
     "output_type": "execute_result"
    }
   ],
   "source": [
    "# We check the score of testing set result in two ways\n",
    "# Confusion matrix\n",
    "cm = confusion_matrix(y_all, y_all_pred)\n",
    "\n",
    "# Accuracy\n",
    "accuracy=accuracy_score(y_all_pred,y_all)\n",
    "\n",
    "print(cm)\n",
    "print(accuracy)\n",
    "\n",
    "\"\"\"\n",
    "# With cancel count only:\n",
    "[[859411    290]\n",
    " [  8524  30889]]\n",
    "0.990197016174\n",
    "\n",
    "# With cancel count + delay count:\n",
    "[[859405    296]\n",
    " [  8621  30792]]\n",
    "0.990082458954\n",
    "\"\"\""
   ]
  },
  {
   "cell_type": "code",
   "execution_count": 85,
   "metadata": {},
   "outputs": [
    {
     "data": {
      "text/plain": [
       "0.98223439309034022"
      ]
     },
     "execution_count": 85,
     "metadata": {},
     "output_type": "execute_result"
    }
   ],
   "source": [
    "precision = cm[0][0] / sum(cm[0])\n",
    "recall = cm[0][0] / (cm[0][0] + cm[1][1])\n",
    "2 * (precision * recall) / (precision + recall) # F1 score"
   ]
  },
  {
   "cell_type": "code",
   "execution_count": 86,
   "metadata": {},
   "outputs": [
    {
     "data": {
      "text/plain": [
       "0.78126506482632629"
      ]
     },
     "execution_count": 86,
     "metadata": {},
     "output_type": "execute_result"
    }
   ],
   "source": [
    "# With cancel count only: 0.7837261817166925\n",
    "# With cancel count + delay count: 0.78126506482632629\n",
    "cm[1][1] / sum(cm[1])"
   ]
  },
  {
   "cell_type": "code",
   "execution_count": 73,
   "metadata": {},
   "outputs": [
    {
     "data": {
      "text/html": [
       "<div>\n",
       "<style>\n",
       "    .dataframe thead tr:only-child th {\n",
       "        text-align: right;\n",
       "    }\n",
       "\n",
       "    .dataframe thead th {\n",
       "        text-align: left;\n",
       "    }\n",
       "\n",
       "    .dataframe tbody tr th {\n",
       "        vertical-align: top;\n",
       "    }\n",
       "</style>\n",
       "<table border=\"1\" class=\"dataframe\">\n",
       "  <thead>\n",
       "    <tr style=\"text-align: right;\">\n",
       "      <th></th>\n",
       "      <th>Importance by gain</th>\n",
       "      <th>Importance by split</th>\n",
       "      <th>feature</th>\n",
       "    </tr>\n",
       "  </thead>\n",
       "  <tbody>\n",
       "    <tr>\n",
       "      <th>10</th>\n",
       "      <td>12994.350900</td>\n",
       "      <td>32043</td>\n",
       "      <td>arr_day_delay_time</td>\n",
       "    </tr>\n",
       "    <tr>\n",
       "      <th>6</th>\n",
       "      <td>14163.500926</td>\n",
       "      <td>29855</td>\n",
       "      <td>dep_hr_delay_time</td>\n",
       "    </tr>\n",
       "    <tr>\n",
       "      <th>9</th>\n",
       "      <td>8572.250580</td>\n",
       "      <td>24219</td>\n",
       "      <td>dep_day_delay_time</td>\n",
       "    </tr>\n",
       "    <tr>\n",
       "      <th>11</th>\n",
       "      <td>7108.787043</td>\n",
       "      <td>23539</td>\n",
       "      <td>air_day_delay_time</td>\n",
       "    </tr>\n",
       "    <tr>\n",
       "      <th>8</th>\n",
       "      <td>7231.753137</td>\n",
       "      <td>22146</td>\n",
       "      <td>air_hr_delay_time</td>\n",
       "    </tr>\n",
       "    <tr>\n",
       "      <th>1</th>\n",
       "      <td>14309.766921</td>\n",
       "      <td>21764</td>\n",
       "      <td>Week</td>\n",
       "    </tr>\n",
       "    <tr>\n",
       "      <th>0</th>\n",
       "      <td>28470.661889</td>\n",
       "      <td>21183</td>\n",
       "      <td>flight_no</td>\n",
       "    </tr>\n",
       "    <tr>\n",
       "      <th>13</th>\n",
       "      <td>11007.559638</td>\n",
       "      <td>20655</td>\n",
       "      <td>arr_wk_delay_time</td>\n",
       "    </tr>\n",
       "    <tr>\n",
       "      <th>7</th>\n",
       "      <td>12311.636142</td>\n",
       "      <td>18592</td>\n",
       "      <td>arr_hr_delay_time</td>\n",
       "    </tr>\n",
       "    <tr>\n",
       "      <th>14</th>\n",
       "      <td>6256.941488</td>\n",
       "      <td>15592</td>\n",
       "      <td>air_wk_delay_time</td>\n",
       "    </tr>\n",
       "    <tr>\n",
       "      <th>15</th>\n",
       "      <td>6336.941272</td>\n",
       "      <td>14351</td>\n",
       "      <td>dep_hr_cancel_count</td>\n",
       "    </tr>\n",
       "    <tr>\n",
       "      <th>12</th>\n",
       "      <td>6351.761994</td>\n",
       "      <td>11331</td>\n",
       "      <td>dep_wk_delay_time</td>\n",
       "    </tr>\n",
       "    <tr>\n",
       "      <th>5</th>\n",
       "      <td>5306.233538</td>\n",
       "      <td>6580</td>\n",
       "      <td>std_hour</td>\n",
       "    </tr>\n",
       "    <tr>\n",
       "      <th>3</th>\n",
       "      <td>5971.714117</td>\n",
       "      <td>4412</td>\n",
       "      <td>Arrival</td>\n",
       "    </tr>\n",
       "    <tr>\n",
       "      <th>17</th>\n",
       "      <td>444.094907</td>\n",
       "      <td>1341</td>\n",
       "      <td>air_hr_cancel_count</td>\n",
       "    </tr>\n",
       "    <tr>\n",
       "      <th>4</th>\n",
       "      <td>856.284925</td>\n",
       "      <td>1257</td>\n",
       "      <td>Airline</td>\n",
       "    </tr>\n",
       "    <tr>\n",
       "      <th>16</th>\n",
       "      <td>579.305880</td>\n",
       "      <td>840</td>\n",
       "      <td>arr_hr_cancel_count</td>\n",
       "    </tr>\n",
       "    <tr>\n",
       "      <th>2</th>\n",
       "      <td>0.000000</td>\n",
       "      <td>0</td>\n",
       "      <td>Departure</td>\n",
       "    </tr>\n",
       "  </tbody>\n",
       "</table>\n",
       "</div>"
      ],
      "text/plain": [
       "    Importance by gain  Importance by split              feature\n",
       "10        12994.350900                32043   arr_day_delay_time\n",
       "6         14163.500926                29855    dep_hr_delay_time\n",
       "9          8572.250580                24219   dep_day_delay_time\n",
       "11         7108.787043                23539   air_day_delay_time\n",
       "8          7231.753137                22146    air_hr_delay_time\n",
       "1         14309.766921                21764                 Week\n",
       "0         28470.661889                21183            flight_no\n",
       "13        11007.559638                20655    arr_wk_delay_time\n",
       "7         12311.636142                18592    arr_hr_delay_time\n",
       "14         6256.941488                15592    air_wk_delay_time\n",
       "15         6336.941272                14351  dep_hr_cancel_count\n",
       "12         6351.761994                11331    dep_wk_delay_time\n",
       "5          5306.233538                 6580             std_hour\n",
       "3          5971.714117                 4412              Arrival\n",
       "17          444.094907                 1341  air_hr_cancel_count\n",
       "4           856.284925                 1257              Airline\n",
       "16          579.305880                  840  arr_hr_cancel_count\n",
       "2             0.000000                    0            Departure"
      ]
     },
     "execution_count": 73,
     "metadata": {},
     "output_type": "execute_result"
    }
   ],
   "source": [
    "pd.DataFrame({'feature': all_feats, \n",
    "              'Importance by split': model.feature_importance(importance_type='split'), \n",
    "              'Importance by gain': model.feature_importance(importance_type='gain')}).sort_values('Importance by split', ascending=False)"
   ]
  },
  {
   "cell_type": "code",
   "execution_count": 159,
   "metadata": {},
   "outputs": [
    {
     "name": "stderr",
     "output_type": "stream",
     "text": [
      "D:\\Anaconda3\\lib\\site-packages\\lightgbm\\engine.py:102: UserWarning: Found `n_estimators` in params. Will use it instead of argument\n",
      "  warnings.warn(\"Found `{}` in params. Will use it instead of argument\".format(alias))\n",
      "D:\\Anaconda3\\lib\\site-packages\\lightgbm\\basic.py:1042: UserWarning: categorical_feature in Dataset is overridden. New categorical_feature is ['Airline', 'Arrival', 'Departure', 'Week', 'flight_no', 'std_hour']\n",
      "  warnings.warn('categorical_feature in Dataset is overridden. New categorical_feature is {}'.format(sorted(list(categorical_feature))))\n"
     ]
    },
    {
     "name": "stdout",
     "output_type": "stream",
     "text": [
      "Round  0 ---------------------\n",
      "Test:\n",
      "[[85873   159]\n",
      " [  718  3162]]\n",
      "0.990246018329\n",
      "Whole:\n",
      "[[859532    169]\n",
      " [  1956  37457]]\n",
      "0.997636562216\n",
      "Round  1 ---------------------\n",
      "Test:\n",
      "[[85882   144]\n",
      " [  742  3144]]\n",
      "0.990145920456\n",
      "Whole:\n",
      "[[859549    152]\n",
      " [  2033  37380]]\n",
      "0.997569829855\n",
      "Round  2 ---------------------\n",
      "Test:\n",
      "[[85808   126]\n",
      " [  751  3227]]\n",
      "0.990246018329\n",
      "Whole:\n",
      "[[859567    134]\n",
      " [  2031  37382]]\n",
      "0.997592073975\n",
      "Round  3 ---------------------\n",
      "Test:\n",
      "[[85909   156]\n",
      " [  708  3139]]\n",
      "0.990390604146\n",
      "Whole:\n",
      "[[859537    164]\n",
      " [  1999  37414]]\n",
      "0.997594298387\n",
      "Round  4 ---------------------\n",
      "Test:\n",
      "[[85890   120]\n",
      " [  798  3104]]\n",
      "0.989790016905\n",
      "Whole:\n",
      "[[859566    135]\n",
      " [  2065  37348]]\n",
      "0.997553146764\n",
      "Round  5 ---------------------\n",
      "Test:\n",
      "[[85842   134]\n",
      " [  791  3145]]\n",
      "0.989712163004\n",
      "Whole:\n",
      "[[859557    144]\n",
      " [  2075  37338]]\n",
      "0.99753201485\n",
      "Round  6 ---------------------\n",
      "Test:\n",
      "[[85879   149]\n",
      " [  778  3106]]\n",
      "0.989689919032\n",
      "Whole:\n",
      "[[859545    156]\n",
      " [  2043  37370]]\n",
      "0.99755425897\n",
      "Round  7 ---------------------\n",
      "Test:\n",
      "[[85796   151]\n",
      " [  752  3213]]\n",
      "0.989956846695\n",
      "Whole:\n",
      "[[859537    164]\n",
      " [  1996  37417]]\n",
      "0.997597635005\n",
      "Round  8 ---------------------\n",
      "Test:\n",
      "[[85831   141]\n",
      " [  731  3209]]\n",
      "0.990301628259\n",
      "Whole:\n",
      "[[859548    153]\n",
      " [  1995  37418]]\n",
      "0.997610981477\n",
      "Round  9 ---------------------\n",
      "Test:\n",
      "[[85899   140]\n",
      " [  795  3078]]\n",
      "0.989600943144\n",
      "Whole:\n",
      "[[859552    149]\n",
      " [  2027  37386]]\n",
      "0.997579839709\n"
     ]
    }
   ],
   "source": [
    "# Try again with 10-fold\n",
    "for i in range(10):\n",
    "    train, test, y_train, y_test = train_test_split(x_all, y_all, test_size=0.1)\n",
    "    \n",
    "    lg = lgb.LGBMClassifier(silent=False)\n",
    "    d_train = lgb.Dataset(train, label=y_train)\n",
    "    params = {\"max_depth\": 50, \"learning_rate\" : 0.1, \"num_leaves\": 900,  \"n_estimators\": 300}\n",
    "    model = lgb.train(params, d_train, categorical_feature = cat_feats)\n",
    "    \n",
    "    y_pred = model.predict(test).round()\n",
    "    print(\"Round \", i, \"---------------------\")\n",
    "    print(\"Test:\")\n",
    "    cm = confusion_matrix(y_test, y_pred)\n",
    "    accuracy=accuracy_score(y_pred,y_test)\n",
    "    print(cm)\n",
    "    print(accuracy)\n",
    "    \n",
    "    y_all_pred = model.predict(x_all).round()\n",
    "    print(\"Whole:\")\n",
    "    cm = confusion_matrix(y_all, y_all_pred)\n",
    "    accuracy=accuracy_score(y_all_pred,y_all)\n",
    "    print(cm)\n",
    "    print(accuracy)"
   ]
  },
  {
   "cell_type": "code",
   "execution_count": null,
   "metadata": {
    "collapsed": true
   },
   "outputs": [],
   "source": []
  },
  {
   "cell_type": "code",
   "execution_count": null,
   "metadata": {
    "collapsed": true
   },
   "outputs": [],
   "source": []
  },
  {
   "cell_type": "code",
   "execution_count": null,
   "metadata": {
    "collapsed": true
   },
   "outputs": [],
   "source": []
  },
  {
   "cell_type": "code",
   "execution_count": null,
   "metadata": {
    "collapsed": true
   },
   "outputs": [],
   "source": []
  },
  {
   "cell_type": "code",
   "execution_count": null,
   "metadata": {
    "collapsed": true
   },
   "outputs": [],
   "source": []
  },
  {
   "cell_type": "code",
   "execution_count": null,
   "metadata": {
    "collapsed": true
   },
   "outputs": [],
   "source": []
  },
  {
   "cell_type": "code",
   "execution_count": null,
   "metadata": {
    "collapsed": true
   },
   "outputs": [],
   "source": []
  },
  {
   "cell_type": "code",
   "execution_count": null,
   "metadata": {
    "collapsed": true
   },
   "outputs": [],
   "source": []
  },
  {
   "cell_type": "code",
   "execution_count": null,
   "metadata": {
    "collapsed": true
   },
   "outputs": [],
   "source": []
  },
  {
   "cell_type": "code",
   "execution_count": null,
   "metadata": {
    "collapsed": true
   },
   "outputs": [],
   "source": []
  },
  {
   "cell_type": "code",
   "execution_count": 71,
   "metadata": {},
   "outputs": [
    {
     "data": {
      "text/plain": [
       "(39413, 11)"
      ]
     },
     "execution_count": 71,
     "metadata": {},
     "output_type": "execute_result"
    }
   ],
   "source": [
    "abnormal_df = data_df[data_df['is_claim_bool'] == 1]\n",
    "abnormal_df.shape"
   ]
  },
  {
   "cell_type": "code",
   "execution_count": 58,
   "metadata": {
    "collapsed": true
   },
   "outputs": [],
   "source": [
    "x_all_abnormal = abnormal_df[cat_feats]\n",
    "y_all_abnormal = abnormal_df['is_claim_bool']"
   ]
  },
  {
   "cell_type": "code",
   "execution_count": 59,
   "metadata": {
    "collapsed": true
   },
   "outputs": [],
   "source": [
    "y_pred_abnormal = model.predict(x_all_abnormal).round()\n",
    "\n",
    "#Confusion matrix\n",
    "from sklearn.metrics import confusion_matrix\n",
    "abnormal_cm = confusion_matrix(y_all_abnormal, y_pred_abnormal)\n",
    "\n",
    "#Accuracy\n",
    "from sklearn.metrics import accuracy_score\n",
    "abnormal_accuracy=accuracy_score(y_pred_abnormal,y_all_abnormal)"
   ]
  },
  {
   "cell_type": "code",
   "execution_count": 60,
   "metadata": {},
   "outputs": [
    {
     "data": {
      "text/plain": [
       "array([[    0,     0],\n",
       "       [30178,  9235]], dtype=int64)"
      ]
     },
     "execution_count": 60,
     "metadata": {},
     "output_type": "execute_result"
    }
   ],
   "source": [
    "abnormal_cm"
   ]
  },
  {
   "cell_type": "code",
   "execution_count": 61,
   "metadata": {},
   "outputs": [
    {
     "data": {
      "text/plain": [
       "0.23431355136630047"
      ]
     },
     "execution_count": 61,
     "metadata": {},
     "output_type": "execute_result"
    }
   ],
   "source": [
    "abnormal_accuracy"
   ]
  },
  {
   "cell_type": "code",
   "execution_count": 68,
   "metadata": {},
   "outputs": [
    {
     "data": {
      "text/plain": [
       "7388000.0"
      ]
     },
     "execution_count": 68,
     "metadata": {},
     "output_type": "execute_result"
    }
   ],
   "source": [
    "abnormal_accuracy * len(y_pred_abnormal) * 800"
   ]
  },
  {
   "cell_type": "code",
   "execution_count": 66,
   "metadata": {},
   "outputs": [
    {
     "data": {
      "text/plain": [
       "array([ 0.,  0.,  0., ...,  1.,  0.,  0.])"
      ]
     },
     "execution_count": 66,
     "metadata": {},
     "output_type": "execute_result"
    }
   ],
   "source": [
    "y_pred_abnormal"
   ]
  },
  {
   "cell_type": "code",
   "execution_count": null,
   "metadata": {
    "collapsed": true
   },
   "outputs": [],
   "source": []
  },
  {
   "cell_type": "code",
   "execution_count": null,
   "metadata": {
    "collapsed": true
   },
   "outputs": [],
   "source": []
  },
  {
   "cell_type": "code",
   "execution_count": 32,
   "metadata": {
    "scrolled": true
   },
   "outputs": [
    {
     "name": "stdout",
     "output_type": "stream",
     "text": [
      "0:\ttotal: 891ms\tremaining: 7m 24s\n",
      "1:\ttotal: 1.76s\tremaining: 7m 18s\n",
      "2:\ttotal: 2.62s\tremaining: 7m 14s\n",
      "3:\ttotal: 3.44s\tremaining: 7m 6s\n",
      "4:\ttotal: 4.22s\tremaining: 6m 58s\n",
      "5:\ttotal: 4.91s\tremaining: 6m 44s\n",
      "6:\ttotal: 5.68s\tremaining: 6m 39s\n",
      "7:\ttotal: 6.41s\tremaining: 6m 34s\n",
      "8:\ttotal: 7.04s\tremaining: 6m 24s\n",
      "9:\ttotal: 7.64s\tremaining: 6m 14s\n",
      "10:\ttotal: 8.25s\tremaining: 6m 6s\n",
      "11:\ttotal: 8.9s\tremaining: 6m 2s\n",
      "12:\ttotal: 9.49s\tremaining: 5m 55s\n",
      "13:\ttotal: 10.2s\tremaining: 5m 54s\n",
      "14:\ttotal: 10.9s\tremaining: 5m 52s\n",
      "15:\ttotal: 11.5s\tremaining: 5m 48s\n",
      "16:\ttotal: 12.3s\tremaining: 5m 48s\n",
      "17:\ttotal: 13.1s\tremaining: 5m 49s\n",
      "18:\ttotal: 13.8s\tremaining: 5m 49s\n",
      "19:\ttotal: 14.5s\tremaining: 5m 48s\n",
      "20:\ttotal: 15.2s\tremaining: 5m 46s\n",
      "21:\ttotal: 15.9s\tremaining: 5m 46s\n",
      "22:\ttotal: 16.7s\tremaining: 5m 45s\n",
      "23:\ttotal: 17.4s\tremaining: 5m 45s\n",
      "24:\ttotal: 18.2s\tremaining: 5m 46s\n",
      "25:\ttotal: 19s\tremaining: 5m 46s\n",
      "26:\ttotal: 19.8s\tremaining: 5m 46s\n",
      "27:\ttotal: 20.5s\tremaining: 5m 45s\n",
      "28:\ttotal: 21.1s\tremaining: 5m 42s\n",
      "29:\ttotal: 21.9s\tremaining: 5m 43s\n",
      "30:\ttotal: 22.7s\tremaining: 5m 43s\n",
      "31:\ttotal: 23.4s\tremaining: 5m 42s\n",
      "32:\ttotal: 24.2s\tremaining: 5m 42s\n",
      "33:\ttotal: 24.9s\tremaining: 5m 41s\n",
      "34:\ttotal: 25.6s\tremaining: 5m 40s\n",
      "35:\ttotal: 26.4s\tremaining: 5m 40s\n",
      "36:\ttotal: 27.3s\tremaining: 5m 41s\n",
      "37:\ttotal: 28s\tremaining: 5m 40s\n",
      "38:\ttotal: 28.8s\tremaining: 5m 40s\n",
      "39:\ttotal: 29.5s\tremaining: 5m 39s\n",
      "40:\ttotal: 30.3s\tremaining: 5m 38s\n",
      "41:\ttotal: 31.1s\tremaining: 5m 39s\n",
      "42:\ttotal: 31.8s\tremaining: 5m 38s\n",
      "43:\ttotal: 32.6s\tremaining: 5m 37s\n",
      "44:\ttotal: 33.4s\tremaining: 5m 37s\n",
      "45:\ttotal: 34.1s\tremaining: 5m 36s\n",
      "46:\ttotal: 34.9s\tremaining: 5m 36s\n",
      "47:\ttotal: 35.7s\tremaining: 5m 36s\n",
      "48:\ttotal: 36.5s\tremaining: 5m 36s\n",
      "49:\ttotal: 37.4s\tremaining: 5m 36s\n",
      "50:\ttotal: 38.2s\tremaining: 5m 36s\n",
      "51:\ttotal: 39.1s\tremaining: 5m 36s\n",
      "52:\ttotal: 39.8s\tremaining: 5m 35s\n",
      "53:\ttotal: 40.7s\tremaining: 5m 35s\n",
      "54:\ttotal: 41.5s\tremaining: 5m 36s\n",
      "55:\ttotal: 42.4s\tremaining: 5m 35s\n",
      "56:\ttotal: 43.1s\tremaining: 5m 34s\n",
      "57:\ttotal: 44s\tremaining: 5m 34s\n",
      "58:\ttotal: 44.7s\tremaining: 5m 34s\n",
      "59:\ttotal: 45.6s\tremaining: 5m 34s\n",
      "60:\ttotal: 46.3s\tremaining: 5m 33s\n",
      "61:\ttotal: 47s\tremaining: 5m 32s\n",
      "62:\ttotal: 47.9s\tremaining: 5m 31s\n",
      "63:\ttotal: 48.7s\tremaining: 5m 31s\n",
      "64:\ttotal: 49.5s\tremaining: 5m 31s\n",
      "65:\ttotal: 50.3s\tremaining: 5m 30s\n",
      "66:\ttotal: 51s\tremaining: 5m 29s\n",
      "67:\ttotal: 51.7s\tremaining: 5m 28s\n",
      "68:\ttotal: 52.7s\tremaining: 5m 29s\n",
      "69:\ttotal: 53.5s\tremaining: 5m 28s\n",
      "70:\ttotal: 54.4s\tremaining: 5m 28s\n",
      "71:\ttotal: 55.2s\tremaining: 5m 27s\n",
      "72:\ttotal: 56s\tremaining: 5m 27s\n",
      "73:\ttotal: 56.7s\tremaining: 5m 26s\n",
      "74:\ttotal: 57.6s\tremaining: 5m 26s\n",
      "75:\ttotal: 58.3s\tremaining: 5m 25s\n",
      "76:\ttotal: 59.2s\tremaining: 5m 25s\n",
      "77:\ttotal: 1m\tremaining: 5m 24s\n",
      "78:\ttotal: 1m\tremaining: 5m 24s\n",
      "79:\ttotal: 1m 1s\tremaining: 5m 23s\n",
      "80:\ttotal: 1m 2s\tremaining: 5m 23s\n",
      "81:\ttotal: 1m 3s\tremaining: 5m 22s\n",
      "82:\ttotal: 1m 4s\tremaining: 5m 21s\n",
      "83:\ttotal: 1m 4s\tremaining: 5m 21s\n",
      "84:\ttotal: 1m 5s\tremaining: 5m 20s\n",
      "85:\ttotal: 1m 6s\tremaining: 5m 19s\n",
      "86:\ttotal: 1m 7s\tremaining: 5m 19s\n",
      "87:\ttotal: 1m 8s\tremaining: 5m 18s\n",
      "88:\ttotal: 1m 8s\tremaining: 5m 17s\n",
      "89:\ttotal: 1m 9s\tremaining: 5m 16s\n",
      "90:\ttotal: 1m 10s\tremaining: 5m 15s\n",
      "91:\ttotal: 1m 10s\tremaining: 5m 14s\n",
      "92:\ttotal: 1m 11s\tremaining: 5m 14s\n",
      "93:\ttotal: 1m 12s\tremaining: 5m 13s\n",
      "94:\ttotal: 1m 13s\tremaining: 5m 12s\n",
      "95:\ttotal: 1m 14s\tremaining: 5m 12s\n",
      "96:\ttotal: 1m 15s\tremaining: 5m 12s\n",
      "97:\ttotal: 1m 15s\tremaining: 5m 11s\n",
      "98:\ttotal: 1m 16s\tremaining: 5m 10s\n",
      "99:\ttotal: 1m 17s\tremaining: 5m 10s\n",
      "100:\ttotal: 1m 18s\tremaining: 5m 9s\n",
      "101:\ttotal: 1m 19s\tremaining: 5m 8s\n",
      "102:\ttotal: 1m 19s\tremaining: 5m 7s\n",
      "103:\ttotal: 1m 20s\tremaining: 5m 7s\n",
      "104:\ttotal: 1m 21s\tremaining: 5m 7s\n",
      "105:\ttotal: 1m 22s\tremaining: 5m 6s\n",
      "106:\ttotal: 1m 23s\tremaining: 5m 5s\n",
      "107:\ttotal: 1m 24s\tremaining: 5m 5s\n",
      "108:\ttotal: 1m 24s\tremaining: 5m 4s\n",
      "109:\ttotal: 1m 25s\tremaining: 5m 3s\n",
      "110:\ttotal: 1m 26s\tremaining: 5m 2s\n",
      "111:\ttotal: 1m 27s\tremaining: 5m 1s\n",
      "112:\ttotal: 1m 27s\tremaining: 5m 1s\n",
      "113:\ttotal: 1m 28s\tremaining: 5m\n",
      "114:\ttotal: 1m 29s\tremaining: 4m 59s\n",
      "115:\ttotal: 1m 30s\tremaining: 4m 59s\n",
      "116:\ttotal: 1m 31s\tremaining: 4m 58s\n",
      "117:\ttotal: 1m 31s\tremaining: 4m 57s\n",
      "118:\ttotal: 1m 32s\tremaining: 4m 56s\n",
      "119:\ttotal: 1m 33s\tremaining: 4m 55s\n",
      "120:\ttotal: 1m 34s\tremaining: 4m 55s\n",
      "121:\ttotal: 1m 34s\tremaining: 4m 54s\n",
      "122:\ttotal: 1m 35s\tremaining: 4m 53s\n",
      "123:\ttotal: 1m 36s\tremaining: 4m 52s\n",
      "124:\ttotal: 1m 37s\tremaining: 4m 52s\n",
      "125:\ttotal: 1m 38s\tremaining: 4m 51s\n",
      "126:\ttotal: 1m 39s\tremaining: 4m 50s\n",
      "127:\ttotal: 1m 39s\tremaining: 4m 50s\n",
      "128:\ttotal: 1m 40s\tremaining: 4m 49s\n",
      "129:\ttotal: 1m 41s\tremaining: 4m 49s\n",
      "130:\ttotal: 1m 42s\tremaining: 4m 47s\n",
      "131:\ttotal: 1m 42s\tremaining: 4m 46s\n",
      "132:\ttotal: 1m 43s\tremaining: 4m 46s\n",
      "133:\ttotal: 1m 44s\tremaining: 4m 45s\n",
      "134:\ttotal: 1m 45s\tremaining: 4m 44s\n",
      "135:\ttotal: 1m 46s\tremaining: 4m 43s\n",
      "136:\ttotal: 1m 46s\tremaining: 4m 43s\n",
      "137:\ttotal: 1m 47s\tremaining: 4m 41s\n",
      "138:\ttotal: 1m 48s\tremaining: 4m 40s\n",
      "139:\ttotal: 1m 49s\tremaining: 4m 40s\n",
      "140:\ttotal: 1m 49s\tremaining: 4m 39s\n",
      "141:\ttotal: 1m 50s\tremaining: 4m 38s\n",
      "142:\ttotal: 1m 51s\tremaining: 4m 38s\n",
      "143:\ttotal: 1m 52s\tremaining: 4m 37s\n",
      "144:\ttotal: 1m 53s\tremaining: 4m 37s\n",
      "145:\ttotal: 1m 53s\tremaining: 4m 36s\n",
      "146:\ttotal: 1m 54s\tremaining: 4m 35s\n",
      "147:\ttotal: 1m 55s\tremaining: 4m 34s\n",
      "148:\ttotal: 1m 56s\tremaining: 4m 34s\n",
      "149:\ttotal: 1m 57s\tremaining: 4m 33s\n",
      "150:\ttotal: 1m 57s\tremaining: 4m 32s\n",
      "151:\ttotal: 1m 58s\tremaining: 4m 31s\n",
      "152:\ttotal: 1m 59s\tremaining: 4m 30s\n",
      "153:\ttotal: 1m 59s\tremaining: 4m 29s\n",
      "154:\ttotal: 2m\tremaining: 4m 28s\n",
      "155:\ttotal: 2m 1s\tremaining: 4m 27s\n",
      "156:\ttotal: 2m 2s\tremaining: 4m 27s\n",
      "157:\ttotal: 2m 3s\tremaining: 4m 26s\n",
      "158:\ttotal: 2m 4s\tremaining: 4m 26s\n",
      "159:\ttotal: 2m 4s\tremaining: 4m 25s\n",
      "160:\ttotal: 2m 5s\tremaining: 4m 24s\n",
      "161:\ttotal: 2m 6s\tremaining: 4m 23s\n",
      "162:\ttotal: 2m 7s\tremaining: 4m 22s\n",
      "163:\ttotal: 2m 8s\tremaining: 4m 22s\n",
      "164:\ttotal: 2m 9s\tremaining: 4m 21s\n",
      "165:\ttotal: 2m 9s\tremaining: 4m 21s\n",
      "166:\ttotal: 2m 10s\tremaining: 4m 20s\n",
      "167:\ttotal: 2m 11s\tremaining: 4m 19s\n",
      "168:\ttotal: 2m 12s\tremaining: 4m 18s\n",
      "169:\ttotal: 2m 13s\tremaining: 4m 18s\n",
      "170:\ttotal: 2m 13s\tremaining: 4m 17s\n",
      "171:\ttotal: 2m 14s\tremaining: 4m 16s\n",
      "172:\ttotal: 2m 15s\tremaining: 4m 16s\n",
      "173:\ttotal: 2m 16s\tremaining: 4m 15s\n",
      "174:\ttotal: 2m 17s\tremaining: 4m 14s\n",
      "175:\ttotal: 2m 17s\tremaining: 4m 13s\n",
      "176:\ttotal: 2m 18s\tremaining: 4m 13s\n",
      "177:\ttotal: 2m 19s\tremaining: 4m 12s\n",
      "178:\ttotal: 2m 20s\tremaining: 4m 11s\n",
      "179:\ttotal: 2m 21s\tremaining: 4m 11s\n",
      "180:\ttotal: 2m 21s\tremaining: 4m 10s\n",
      "181:\ttotal: 2m 22s\tremaining: 4m 9s\n",
      "182:\ttotal: 2m 23s\tremaining: 4m 8s\n",
      "183:\ttotal: 2m 24s\tremaining: 4m 7s\n",
      "184:\ttotal: 2m 25s\tremaining: 4m 7s\n",
      "185:\ttotal: 2m 26s\tremaining: 4m 6s\n",
      "186:\ttotal: 2m 26s\tremaining: 4m 5s\n",
      "187:\ttotal: 2m 27s\tremaining: 4m 5s\n",
      "188:\ttotal: 2m 28s\tremaining: 4m 4s\n",
      "189:\ttotal: 2m 29s\tremaining: 4m 3s\n",
      "190:\ttotal: 2m 30s\tremaining: 4m 2s\n",
      "191:\ttotal: 2m 30s\tremaining: 4m 2s\n",
      "192:\ttotal: 2m 31s\tremaining: 4m 1s\n",
      "193:\ttotal: 2m 32s\tremaining: 4m\n",
      "194:\ttotal: 2m 33s\tremaining: 3m 59s\n",
      "195:\ttotal: 2m 34s\tremaining: 3m 59s\n",
      "196:\ttotal: 2m 34s\tremaining: 3m 58s\n",
      "197:\ttotal: 2m 35s\tremaining: 3m 57s\n",
      "198:\ttotal: 2m 36s\tremaining: 3m 56s\n",
      "199:\ttotal: 2m 37s\tremaining: 3m 55s\n",
      "200:\ttotal: 2m 38s\tremaining: 3m 55s\n",
      "201:\ttotal: 2m 38s\tremaining: 3m 54s\n",
      "202:\ttotal: 2m 39s\tremaining: 3m 53s\n",
      "203:\ttotal: 2m 40s\tremaining: 3m 52s\n",
      "204:\ttotal: 2m 41s\tremaining: 3m 52s\n",
      "205:\ttotal: 2m 42s\tremaining: 3m 51s\n",
      "206:\ttotal: 2m 42s\tremaining: 3m 50s\n",
      "207:\ttotal: 2m 43s\tremaining: 3m 49s\n",
      "208:\ttotal: 2m 44s\tremaining: 3m 49s\n",
      "209:\ttotal: 2m 45s\tremaining: 3m 48s\n",
      "210:\ttotal: 2m 46s\tremaining: 3m 47s\n",
      "211:\ttotal: 2m 46s\tremaining: 3m 46s\n",
      "212:\ttotal: 2m 47s\tremaining: 3m 46s\n",
      "213:\ttotal: 2m 48s\tremaining: 3m 45s\n",
      "214:\ttotal: 2m 49s\tremaining: 3m 44s\n",
      "215:\ttotal: 2m 50s\tremaining: 3m 43s\n",
      "216:\ttotal: 2m 50s\tremaining: 3m 42s\n",
      "217:\ttotal: 2m 51s\tremaining: 3m 42s\n",
      "218:\ttotal: 2m 52s\tremaining: 3m 41s\n",
      "219:\ttotal: 2m 53s\tremaining: 3m 40s\n",
      "220:\ttotal: 2m 54s\tremaining: 3m 39s\n",
      "221:\ttotal: 2m 54s\tremaining: 3m 39s\n",
      "222:\ttotal: 2m 55s\tremaining: 3m 38s\n",
      "223:\ttotal: 2m 56s\tremaining: 3m 37s\n",
      "224:\ttotal: 2m 57s\tremaining: 3m 36s\n",
      "225:\ttotal: 2m 58s\tremaining: 3m 35s\n",
      "226:\ttotal: 2m 58s\tremaining: 3m 35s\n",
      "227:\ttotal: 2m 59s\tremaining: 3m 34s\n",
      "228:\ttotal: 3m\tremaining: 3m 33s\n"
     ]
    },
    {
     "name": "stdout",
     "output_type": "stream",
     "text": [
      "229:\ttotal: 3m 1s\tremaining: 3m 32s\n",
      "230:\ttotal: 3m 2s\tremaining: 3m 31s\n",
      "231:\ttotal: 3m 2s\tremaining: 3m 31s\n",
      "232:\ttotal: 3m 3s\tremaining: 3m 30s\n",
      "233:\ttotal: 3m 4s\tremaining: 3m 29s\n",
      "234:\ttotal: 3m 5s\tremaining: 3m 28s\n",
      "235:\ttotal: 3m 6s\tremaining: 3m 28s\n",
      "236:\ttotal: 3m 6s\tremaining: 3m 27s\n",
      "237:\ttotal: 3m 7s\tremaining: 3m 26s\n",
      "238:\ttotal: 3m 8s\tremaining: 3m 26s\n",
      "239:\ttotal: 3m 9s\tremaining: 3m 25s\n",
      "240:\ttotal: 3m 10s\tremaining: 3m 24s\n",
      "241:\ttotal: 3m 11s\tremaining: 3m 23s\n",
      "242:\ttotal: 3m 12s\tremaining: 3m 23s\n",
      "243:\ttotal: 3m 12s\tremaining: 3m 22s\n",
      "244:\ttotal: 3m 13s\tremaining: 3m 21s\n",
      "245:\ttotal: 3m 14s\tremaining: 3m 20s\n",
      "246:\ttotal: 3m 15s\tremaining: 3m 19s\n",
      "247:\ttotal: 3m 15s\tremaining: 3m 19s\n",
      "248:\ttotal: 3m 16s\tremaining: 3m 18s\n",
      "249:\ttotal: 3m 17s\tremaining: 3m 17s\n",
      "250:\ttotal: 3m 18s\tremaining: 3m 16s\n",
      "251:\ttotal: 3m 19s\tremaining: 3m 15s\n",
      "252:\ttotal: 3m 19s\tremaining: 3m 15s\n",
      "253:\ttotal: 3m 20s\tremaining: 3m 14s\n",
      "254:\ttotal: 3m 21s\tremaining: 3m 13s\n",
      "255:\ttotal: 3m 22s\tremaining: 3m 12s\n",
      "256:\ttotal: 3m 23s\tremaining: 3m 12s\n",
      "257:\ttotal: 3m 23s\tremaining: 3m 11s\n",
      "258:\ttotal: 3m 24s\tremaining: 3m 10s\n",
      "259:\ttotal: 3m 25s\tremaining: 3m 9s\n",
      "260:\ttotal: 3m 26s\tremaining: 3m 8s\n",
      "261:\ttotal: 3m 26s\tremaining: 3m 7s\n",
      "262:\ttotal: 3m 27s\tremaining: 3m 7s\n",
      "263:\ttotal: 3m 28s\tremaining: 3m 6s\n",
      "264:\ttotal: 3m 29s\tremaining: 3m 5s\n",
      "265:\ttotal: 3m 30s\tremaining: 3m 4s\n",
      "266:\ttotal: 3m 30s\tremaining: 3m 4s\n",
      "267:\ttotal: 3m 31s\tremaining: 3m 3s\n",
      "268:\ttotal: 3m 32s\tremaining: 3m 2s\n",
      "269:\ttotal: 3m 33s\tremaining: 3m 1s\n",
      "270:\ttotal: 3m 33s\tremaining: 3m\n",
      "271:\ttotal: 3m 34s\tremaining: 3m\n",
      "272:\ttotal: 3m 35s\tremaining: 2m 59s\n",
      "273:\ttotal: 3m 36s\tremaining: 2m 58s\n",
      "274:\ttotal: 3m 37s\tremaining: 2m 57s\n",
      "275:\ttotal: 3m 37s\tremaining: 2m 56s\n",
      "276:\ttotal: 3m 38s\tremaining: 2m 56s\n",
      "277:\ttotal: 3m 39s\tremaining: 2m 55s\n",
      "278:\ttotal: 3m 40s\tremaining: 2m 54s\n",
      "279:\ttotal: 3m 41s\tremaining: 2m 53s\n",
      "280:\ttotal: 3m 42s\tremaining: 2m 53s\n",
      "281:\ttotal: 3m 43s\tremaining: 2m 52s\n",
      "282:\ttotal: 3m 44s\tremaining: 2m 51s\n",
      "283:\ttotal: 3m 44s\tremaining: 2m 50s\n",
      "284:\ttotal: 3m 45s\tremaining: 2m 50s\n",
      "285:\ttotal: 3m 46s\tremaining: 2m 49s\n",
      "286:\ttotal: 3m 47s\tremaining: 2m 48s\n",
      "287:\ttotal: 3m 47s\tremaining: 2m 47s\n",
      "288:\ttotal: 3m 48s\tremaining: 2m 46s\n",
      "289:\ttotal: 3m 49s\tremaining: 2m 46s\n",
      "290:\ttotal: 3m 50s\tremaining: 2m 45s\n",
      "291:\ttotal: 3m 50s\tremaining: 2m 44s\n",
      "292:\ttotal: 3m 51s\tremaining: 2m 43s\n",
      "293:\ttotal: 3m 52s\tremaining: 2m 42s\n",
      "294:\ttotal: 3m 53s\tremaining: 2m 42s\n",
      "295:\ttotal: 3m 54s\tremaining: 2m 41s\n",
      "296:\ttotal: 3m 54s\tremaining: 2m 40s\n",
      "297:\ttotal: 3m 55s\tremaining: 2m 39s\n",
      "298:\ttotal: 3m 56s\tremaining: 2m 38s\n",
      "299:\ttotal: 3m 57s\tremaining: 2m 38s\n",
      "300:\ttotal: 3m 58s\tremaining: 2m 37s\n",
      "301:\ttotal: 3m 58s\tremaining: 2m 36s\n",
      "302:\ttotal: 3m 59s\tremaining: 2m 35s\n",
      "303:\ttotal: 4m\tremaining: 2m 35s\n",
      "304:\ttotal: 4m 1s\tremaining: 2m 34s\n",
      "305:\ttotal: 4m 2s\tremaining: 2m 33s\n",
      "306:\ttotal: 4m 2s\tremaining: 2m 32s\n",
      "307:\ttotal: 4m 3s\tremaining: 2m 31s\n",
      "308:\ttotal: 4m 4s\tremaining: 2m 31s\n",
      "309:\ttotal: 4m 5s\tremaining: 2m 30s\n",
      "310:\ttotal: 4m 6s\tremaining: 2m 29s\n",
      "311:\ttotal: 4m 7s\tremaining: 2m 28s\n",
      "312:\ttotal: 4m 8s\tremaining: 2m 28s\n",
      "313:\ttotal: 4m 8s\tremaining: 2m 27s\n",
      "314:\ttotal: 4m 9s\tremaining: 2m 26s\n",
      "315:\ttotal: 4m 10s\tremaining: 2m 25s\n",
      "316:\ttotal: 4m 11s\tremaining: 2m 25s\n",
      "317:\ttotal: 4m 12s\tremaining: 2m 24s\n",
      "318:\ttotal: 4m 12s\tremaining: 2m 23s\n",
      "319:\ttotal: 4m 13s\tremaining: 2m 22s\n",
      "320:\ttotal: 4m 14s\tremaining: 2m 22s\n",
      "321:\ttotal: 4m 15s\tremaining: 2m 21s\n",
      "322:\ttotal: 4m 16s\tremaining: 2m 20s\n",
      "323:\ttotal: 4m 16s\tremaining: 2m 19s\n",
      "324:\ttotal: 4m 17s\tremaining: 2m 18s\n",
      "325:\ttotal: 4m 18s\tremaining: 2m 18s\n",
      "326:\ttotal: 4m 19s\tremaining: 2m 17s\n",
      "327:\ttotal: 4m 20s\tremaining: 2m 16s\n",
      "328:\ttotal: 4m 21s\tremaining: 2m 15s\n",
      "329:\ttotal: 4m 21s\tremaining: 2m 14s\n",
      "330:\ttotal: 4m 22s\tremaining: 2m 14s\n",
      "331:\ttotal: 4m 23s\tremaining: 2m 13s\n",
      "332:\ttotal: 4m 24s\tremaining: 2m 12s\n",
      "333:\ttotal: 4m 25s\tremaining: 2m 11s\n",
      "334:\ttotal: 4m 26s\tremaining: 2m 11s\n",
      "335:\ttotal: 4m 26s\tremaining: 2m 10s\n",
      "336:\ttotal: 4m 27s\tremaining: 2m 9s\n",
      "337:\ttotal: 4m 28s\tremaining: 2m 8s\n",
      "338:\ttotal: 4m 29s\tremaining: 2m 7s\n",
      "339:\ttotal: 4m 30s\tremaining: 2m 7s\n",
      "340:\ttotal: 4m 30s\tremaining: 2m 6s\n",
      "341:\ttotal: 4m 31s\tremaining: 2m 5s\n",
      "342:\ttotal: 4m 32s\tremaining: 2m 4s\n",
      "343:\ttotal: 4m 33s\tremaining: 2m 3s\n",
      "344:\ttotal: 4m 34s\tremaining: 2m 3s\n",
      "345:\ttotal: 4m 35s\tremaining: 2m 2s\n",
      "346:\ttotal: 4m 35s\tremaining: 2m 1s\n",
      "347:\ttotal: 4m 36s\tremaining: 2m\n",
      "348:\ttotal: 4m 37s\tremaining: 2m\n",
      "349:\ttotal: 4m 38s\tremaining: 1m 59s\n",
      "350:\ttotal: 4m 39s\tremaining: 1m 58s\n",
      "351:\ttotal: 4m 40s\tremaining: 1m 57s\n",
      "352:\ttotal: 4m 41s\tremaining: 1m 57s\n",
      "353:\ttotal: 4m 41s\tremaining: 1m 56s\n",
      "354:\ttotal: 4m 42s\tremaining: 1m 55s\n",
      "355:\ttotal: 4m 43s\tremaining: 1m 54s\n",
      "356:\ttotal: 4m 44s\tremaining: 1m 54s\n",
      "357:\ttotal: 4m 45s\tremaining: 1m 53s\n",
      "358:\ttotal: 4m 46s\tremaining: 1m 52s\n",
      "359:\ttotal: 4m 46s\tremaining: 1m 51s\n",
      "360:\ttotal: 4m 47s\tremaining: 1m 50s\n",
      "361:\ttotal: 4m 48s\tremaining: 1m 50s\n",
      "362:\ttotal: 4m 49s\tremaining: 1m 49s\n",
      "363:\ttotal: 4m 49s\tremaining: 1m 48s\n",
      "364:\ttotal: 4m 50s\tremaining: 1m 47s\n",
      "365:\ttotal: 4m 51s\tremaining: 1m 46s\n",
      "366:\ttotal: 4m 52s\tremaining: 1m 45s\n",
      "367:\ttotal: 4m 53s\tremaining: 1m 45s\n",
      "368:\ttotal: 4m 54s\tremaining: 1m 44s\n",
      "369:\ttotal: 4m 54s\tremaining: 1m 43s\n",
      "370:\ttotal: 4m 55s\tremaining: 1m 42s\n",
      "371:\ttotal: 4m 56s\tremaining: 1m 42s\n",
      "372:\ttotal: 4m 57s\tremaining: 1m 41s\n",
      "373:\ttotal: 4m 58s\tremaining: 1m 40s\n",
      "374:\ttotal: 4m 59s\tremaining: 1m 39s\n",
      "375:\ttotal: 4m 59s\tremaining: 1m 38s\n",
      "376:\ttotal: 5m\tremaining: 1m 38s\n",
      "377:\ttotal: 5m 1s\tremaining: 1m 37s\n",
      "378:\ttotal: 5m 2s\tremaining: 1m 36s\n",
      "379:\ttotal: 5m 2s\tremaining: 1m 35s\n",
      "380:\ttotal: 5m 3s\tremaining: 1m 34s\n",
      "381:\ttotal: 5m 4s\tremaining: 1m 34s\n",
      "382:\ttotal: 5m 5s\tremaining: 1m 33s\n",
      "383:\ttotal: 5m 6s\tremaining: 1m 32s\n",
      "384:\ttotal: 5m 6s\tremaining: 1m 31s\n",
      "385:\ttotal: 5m 7s\tremaining: 1m 30s\n",
      "386:\ttotal: 5m 8s\tremaining: 1m 30s\n",
      "387:\ttotal: 5m 9s\tremaining: 1m 29s\n",
      "388:\ttotal: 5m 10s\tremaining: 1m 28s\n",
      "389:\ttotal: 5m 11s\tremaining: 1m 27s\n",
      "390:\ttotal: 5m 12s\tremaining: 1m 26s\n",
      "391:\ttotal: 5m 12s\tremaining: 1m 26s\n",
      "392:\ttotal: 5m 13s\tremaining: 1m 25s\n",
      "393:\ttotal: 5m 14s\tremaining: 1m 24s\n",
      "394:\ttotal: 5m 15s\tremaining: 1m 23s\n",
      "395:\ttotal: 5m 16s\tremaining: 1m 23s\n",
      "396:\ttotal: 5m 16s\tremaining: 1m 22s\n",
      "397:\ttotal: 5m 17s\tremaining: 1m 21s\n",
      "398:\ttotal: 5m 18s\tremaining: 1m 20s\n",
      "399:\ttotal: 5m 19s\tremaining: 1m 19s\n",
      "400:\ttotal: 5m 20s\tremaining: 1m 19s\n",
      "401:\ttotal: 5m 20s\tremaining: 1m 18s\n",
      "402:\ttotal: 5m 21s\tremaining: 1m 17s\n",
      "403:\ttotal: 5m 22s\tremaining: 1m 16s\n",
      "404:\ttotal: 5m 23s\tremaining: 1m 15s\n",
      "405:\ttotal: 5m 24s\tremaining: 1m 15s\n",
      "406:\ttotal: 5m 25s\tremaining: 1m 14s\n",
      "407:\ttotal: 5m 25s\tremaining: 1m 13s\n",
      "408:\ttotal: 5m 26s\tremaining: 1m 12s\n",
      "409:\ttotal: 5m 27s\tremaining: 1m 11s\n",
      "410:\ttotal: 5m 28s\tremaining: 1m 11s\n",
      "411:\ttotal: 5m 29s\tremaining: 1m 10s\n",
      "412:\ttotal: 5m 30s\tremaining: 1m 9s\n",
      "413:\ttotal: 5m 30s\tremaining: 1m 8s\n",
      "414:\ttotal: 5m 31s\tremaining: 1m 7s\n",
      "415:\ttotal: 5m 32s\tremaining: 1m 7s\n",
      "416:\ttotal: 5m 33s\tremaining: 1m 6s\n",
      "417:\ttotal: 5m 34s\tremaining: 1m 5s\n",
      "418:\ttotal: 5m 35s\tremaining: 1m 4s\n",
      "419:\ttotal: 5m 35s\tremaining: 1m 3s\n",
      "420:\ttotal: 5m 36s\tremaining: 1m 3s\n",
      "421:\ttotal: 5m 37s\tremaining: 1m 2s\n",
      "422:\ttotal: 5m 38s\tremaining: 1m 1s\n",
      "423:\ttotal: 5m 38s\tremaining: 1m\n",
      "424:\ttotal: 5m 39s\tremaining: 60s\n",
      "425:\ttotal: 5m 40s\tremaining: 59.2s\n",
      "426:\ttotal: 5m 41s\tremaining: 58.4s\n",
      "427:\ttotal: 5m 42s\tremaining: 57.6s\n",
      "428:\ttotal: 5m 43s\tremaining: 56.8s\n",
      "429:\ttotal: 5m 43s\tremaining: 56s\n",
      "430:\ttotal: 5m 44s\tremaining: 55.2s\n",
      "431:\ttotal: 5m 45s\tremaining: 54.4s\n",
      "432:\ttotal: 5m 46s\tremaining: 53.6s\n",
      "433:\ttotal: 5m 47s\tremaining: 52.8s\n",
      "434:\ttotal: 5m 47s\tremaining: 52s\n",
      "435:\ttotal: 5m 48s\tremaining: 51.2s\n",
      "436:\ttotal: 5m 49s\tremaining: 50.4s\n",
      "437:\ttotal: 5m 50s\tremaining: 49.6s\n",
      "438:\ttotal: 5m 51s\tremaining: 48.8s\n",
      "439:\ttotal: 5m 51s\tremaining: 48s\n",
      "440:\ttotal: 5m 52s\tremaining: 47.2s\n",
      "441:\ttotal: 5m 53s\tremaining: 46.4s\n",
      "442:\ttotal: 5m 54s\tremaining: 45.6s\n",
      "443:\ttotal: 5m 55s\tremaining: 44.8s\n",
      "444:\ttotal: 5m 55s\tremaining: 44s\n",
      "445:\ttotal: 5m 56s\tremaining: 43.2s\n",
      "446:\ttotal: 5m 57s\tremaining: 42.4s\n",
      "447:\ttotal: 5m 58s\tremaining: 41.6s\n",
      "448:\ttotal: 5m 59s\tremaining: 40.8s\n",
      "449:\ttotal: 6m\tremaining: 40s\n",
      "450:\ttotal: 6m\tremaining: 39.2s\n",
      "451:\ttotal: 6m 1s\tremaining: 38.4s\n",
      "452:\ttotal: 6m 2s\tremaining: 37.6s\n",
      "453:\ttotal: 6m 3s\tremaining: 36.8s\n",
      "454:\ttotal: 6m 4s\tremaining: 36s\n"
     ]
    },
    {
     "name": "stdout",
     "output_type": "stream",
     "text": [
      "455:\ttotal: 6m 4s\tremaining: 35.2s\n",
      "456:\ttotal: 6m 5s\tremaining: 34.4s\n",
      "457:\ttotal: 6m 6s\tremaining: 33.6s\n",
      "458:\ttotal: 6m 7s\tremaining: 32.8s\n",
      "459:\ttotal: 6m 8s\tremaining: 32s\n",
      "460:\ttotal: 6m 8s\tremaining: 31.2s\n",
      "461:\ttotal: 6m 9s\tremaining: 30.4s\n",
      "462:\ttotal: 6m 10s\tremaining: 29.6s\n",
      "463:\ttotal: 6m 11s\tremaining: 28.8s\n",
      "464:\ttotal: 6m 12s\tremaining: 28s\n",
      "465:\ttotal: 6m 13s\tremaining: 27.2s\n",
      "466:\ttotal: 6m 13s\tremaining: 26.4s\n",
      "467:\ttotal: 6m 14s\tremaining: 25.6s\n",
      "468:\ttotal: 6m 15s\tremaining: 24.8s\n",
      "469:\ttotal: 6m 16s\tremaining: 24s\n",
      "470:\ttotal: 6m 16s\tremaining: 23.2s\n",
      "471:\ttotal: 6m 17s\tremaining: 22.4s\n",
      "472:\ttotal: 6m 18s\tremaining: 21.6s\n",
      "473:\ttotal: 6m 19s\tremaining: 20.8s\n",
      "474:\ttotal: 6m 20s\tremaining: 20s\n",
      "475:\ttotal: 6m 20s\tremaining: 19.2s\n",
      "476:\ttotal: 6m 21s\tremaining: 18.4s\n",
      "477:\ttotal: 6m 22s\tremaining: 17.6s\n",
      "478:\ttotal: 6m 23s\tremaining: 16.8s\n",
      "479:\ttotal: 6m 23s\tremaining: 16s\n",
      "480:\ttotal: 6m 24s\tremaining: 15.2s\n",
      "481:\ttotal: 6m 25s\tremaining: 14.4s\n",
      "482:\ttotal: 6m 26s\tremaining: 13.6s\n",
      "483:\ttotal: 6m 27s\tremaining: 12.8s\n",
      "484:\ttotal: 6m 28s\tremaining: 12s\n",
      "485:\ttotal: 6m 29s\tremaining: 11.2s\n",
      "486:\ttotal: 6m 29s\tremaining: 10.4s\n",
      "487:\ttotal: 6m 30s\tremaining: 9.61s\n",
      "488:\ttotal: 6m 31s\tremaining: 8.8s\n",
      "489:\ttotal: 6m 32s\tremaining: 8s\n",
      "490:\ttotal: 6m 32s\tremaining: 7.2s\n",
      "491:\ttotal: 6m 33s\tremaining: 6.4s\n",
      "492:\ttotal: 6m 34s\tremaining: 5.6s\n",
      "493:\ttotal: 6m 35s\tremaining: 4.8s\n",
      "494:\ttotal: 6m 36s\tremaining: 4s\n",
      "495:\ttotal: 6m 37s\tremaining: 3.2s\n",
      "496:\ttotal: 6m 38s\tremaining: 2.4s\n",
      "497:\ttotal: 6m 38s\tremaining: 1.6s\n",
      "498:\ttotal: 6m 39s\tremaining: 801ms\n",
      "499:\ttotal: 6m 40s\tremaining: 0us\n"
     ]
    },
    {
     "ename": "NameError",
     "evalue": "name 'metrics' is not defined",
     "output_type": "error",
     "traceback": [
      "\u001b[1;31m---------------------------------------------------------------------------\u001b[0m",
      "\u001b[1;31mNameError\u001b[0m                                 Traceback (most recent call last)",
      "\u001b[1;32m<ipython-input-32-61d5766b3e7a>\u001b[0m in \u001b[0;36m<module>\u001b[1;34m()\u001b[0m\n\u001b[0;32m     20\u001b[0m \u001b[0mclf\u001b[0m \u001b[1;33m=\u001b[0m \u001b[0mcb\u001b[0m\u001b[1;33m.\u001b[0m\u001b[0mCatBoostClassifier\u001b[0m\u001b[1;33m(\u001b[0m\u001b[0meval_metric\u001b[0m\u001b[1;33m=\u001b[0m\u001b[1;34m\"AUC\"\u001b[0m\u001b[1;33m,\u001b[0m\u001b[0mone_hot_max_size\u001b[0m\u001b[1;33m=\u001b[0m\u001b[1;36m31\u001b[0m\u001b[1;33m,\u001b[0m                             \u001b[0mdepth\u001b[0m\u001b[1;33m=\u001b[0m\u001b[1;36m10\u001b[0m\u001b[1;33m,\u001b[0m \u001b[0miterations\u001b[0m\u001b[1;33m=\u001b[0m \u001b[1;36m500\u001b[0m\u001b[1;33m,\u001b[0m \u001b[0ml2_leaf_reg\u001b[0m\u001b[1;33m=\u001b[0m \u001b[1;36m9\u001b[0m\u001b[1;33m,\u001b[0m \u001b[0mlearning_rate\u001b[0m\u001b[1;33m=\u001b[0m \u001b[1;36m0.15\u001b[0m\u001b[1;33m)\u001b[0m\u001b[1;33m\u001b[0m\u001b[0m\n\u001b[0;32m     21\u001b[0m \u001b[0mclf\u001b[0m\u001b[1;33m.\u001b[0m\u001b[0mfit\u001b[0m\u001b[1;33m(\u001b[0m\u001b[0mtrain\u001b[0m\u001b[1;33m,\u001b[0m\u001b[0my_train\u001b[0m\u001b[1;33m,\u001b[0m \u001b[0mcat_features\u001b[0m\u001b[1;33m=\u001b[0m\u001b[0mcat_features_index\u001b[0m\u001b[1;33m)\u001b[0m\u001b[1;33m\u001b[0m\u001b[0m\n\u001b[1;32m---> 22\u001b[1;33m \u001b[0mauc\u001b[0m\u001b[1;33m(\u001b[0m\u001b[0mclf\u001b[0m\u001b[1;33m,\u001b[0m \u001b[0mtrain\u001b[0m\u001b[1;33m,\u001b[0m \u001b[0mtest\u001b[0m\u001b[1;33m)\u001b[0m\u001b[1;33m\u001b[0m\u001b[0m\n\u001b[0m\u001b[0;32m     23\u001b[0m \u001b[1;33m\u001b[0m\u001b[0m\n\u001b[0;32m     24\u001b[0m \"\"\"\n",
      "\u001b[1;32m<ipython-input-30-bfeafbf69ccf>\u001b[0m in \u001b[0;36mauc\u001b[1;34m(m, train, test)\u001b[0m\n\u001b[0;32m      5\u001b[0m \u001b[1;33m\u001b[0m\u001b[0m\n\u001b[0;32m      6\u001b[0m \u001b[1;32mdef\u001b[0m \u001b[0mauc\u001b[0m\u001b[1;33m(\u001b[0m\u001b[0mm\u001b[0m\u001b[1;33m,\u001b[0m \u001b[0mtrain\u001b[0m\u001b[1;33m,\u001b[0m \u001b[0mtest\u001b[0m\u001b[1;33m)\u001b[0m\u001b[1;33m:\u001b[0m\u001b[1;33m\u001b[0m\u001b[0m\n\u001b[1;32m----> 7\u001b[1;33m     return (metrics.roc_auc_score(y_train,m.predict_proba(train)[:,1]),\n\u001b[0m\u001b[0;32m      8\u001b[0m                             metrics.roc_auc_score(y_test,m.predict_proba(test)[:,1]))\n\u001b[0;32m      9\u001b[0m \u001b[1;33m\u001b[0m\u001b[0m\n",
      "\u001b[1;31mNameError\u001b[0m: name 'metrics' is not defined"
     ]
    }
   ],
   "source": [
    "import catboost as cb\n",
    "from sklearn.model_selection import GridSearchCV\n",
    "\n",
    "cat_features_index = [0,2,3,4,5]\n",
    "\n",
    "\"\"\"\n",
    "def auc(m, train, test): \n",
    "    return (metrics.roc_auc_score(y_train,m.predict_proba(train)[:,1]),\n",
    "                            metrics.roc_auc_score(y_test,m.predict_proba(test)[:,1]))\n",
    "\n",
    "params = {'depth': [4, 7, 10],\n",
    "          'learning_rate' : [0.03, 0.1, 0.15],\n",
    "         'l2_leaf_reg': [1,4,9],\n",
    "         'iterations': [300]}\n",
    "cb = cb.CatBoostClassifier()\n",
    "cb_model = GridSearchCV(cb, params, scoring=\"accuracy\", cv = 3)\n",
    "cb_model.fit(train, y_train)\n",
    "\"\"\"\n",
    "\n",
    "def show_train_test_accuracy(m, train, test, y_train, y_test):\n",
    "    \n",
    "\n",
    "clf = cb.CatBoostClassifier(eval_metric=\"AUC\",one_hot_max_size=31, \\\n",
    "                            depth=10, iterations= 500, l2_leaf_reg= 9, learning_rate= 0.15)\n",
    "clf.fit(train,y_train, cat_features=cat_features_index)\n",
    "show_train_test_accuracy(clf, train, test)\n",
    "\n",
    "\"\"\"\n",
    "With Categorical features\n",
    "clf = cb.CatBoostClassifier(eval_metric=\"AUC\", depth=10, iterations= 500, l2_leaf_reg= 9, learning_rate= 0.15)\n",
    "clf.fit(train,y_train)\n",
    "auc(clf, train, test)\n",
    "\n",
    "With Categorical features\n",
    "clf = cb.CatBoostClassifier(eval_metric=\"AUC\",one_hot_max_size=31, \\\n",
    "                            depth=10, iterations= 500, l2_leaf_reg= 9, learning_rate= 0.15)\n",
    "clf.fit(train,y_train, cat_features=cat_features_index)\n",
    "auc(clf, train, test)\n",
    "\"\"\""
   ]
  },
  {
   "cell_type": "code",
   "execution_count": 33,
   "metadata": {
    "collapsed": true
   },
   "outputs": [],
   "source": [
    "import numpy as np\n",
    "\n",
    "np_arr = np.array([[ 0.43348191, 0.56651809],\n",
    "       [ 0.84401838, 0.15598162],\n",
    "       [ 0.13147498, 0.86852502]])"
   ]
  },
  {
   "cell_type": "code",
   "execution_count": 35,
   "metadata": {},
   "outputs": [
    {
     "data": {
      "text/plain": [
       "array([ 0.56651809,  0.15598162,  0.86852502])"
      ]
     },
     "execution_count": 35,
     "metadata": {},
     "output_type": "execute_result"
    }
   ],
   "source": [
    "np_arr[:,1]"
   ]
  },
  {
   "cell_type": "code",
   "execution_count": 40,
   "metadata": {},
   "outputs": [
    {
     "data": {
      "text/plain": [
       "array([[ 0.99248242,  0.00751758],\n",
       "       [ 0.98422051,  0.01577949],\n",
       "       [ 0.98582767,  0.01417233],\n",
       "       ..., \n",
       "       [ 0.98536377,  0.01463623],\n",
       "       [ 0.99129739,  0.00870261],\n",
       "       [ 0.97489411,  0.02510589]])"
      ]
     },
     "execution_count": 40,
     "metadata": {},
     "output_type": "execute_result"
    }
   ],
   "source": [
    "clf.predict_proba(test)"
   ]
  },
  {
   "cell_type": "code",
   "execution_count": 41,
   "metadata": {},
   "outputs": [
    {
     "data": {
      "text/plain": [
       "632830    0\n",
       "249400    0\n",
       "694264    0\n",
       "717623    0\n",
       "458571    0\n",
       "287005    1\n",
       "771526    0\n",
       "807558    0\n",
       "814023    1\n",
       "56020     0\n",
       "269614    0\n",
       "500462    0\n",
       "468659    0\n",
       "94278     0\n",
       "744185    0\n",
       "289684    0\n",
       "288029    0\n",
       "889335    0\n",
       "814548    0\n",
       "191188    1\n",
       "699195    0\n",
       "23806     0\n",
       "123362    0\n",
       "163442    0\n",
       "786351    0\n",
       "142949    0\n",
       "839632    0\n",
       "642767    0\n",
       "716690    0\n",
       "430449    0\n",
       "         ..\n",
       "865945    0\n",
       "683866    0\n",
       "890432    0\n",
       "672260    0\n",
       "491212    0\n",
       "185754    0\n",
       "387622    0\n",
       "760889    0\n",
       "691997    0\n",
       "286642    0\n",
       "722248    0\n",
       "268224    0\n",
       "809047    0\n",
       "763369    0\n",
       "148719    0\n",
       "348449    0\n",
       "734266    1\n",
       "504225    1\n",
       "549270    0\n",
       "780675    0\n",
       "191978    0\n",
       "728449    0\n",
       "514447    0\n",
       "637866    0\n",
       "121222    0\n",
       "413276    0\n",
       "420683    0\n",
       "560263    0\n",
       "497622    0\n",
       "870260    0\n",
       "Name: is_claim_bool, Length: 89912, dtype: int64"
      ]
     },
     "execution_count": 41,
     "metadata": {},
     "output_type": "execute_result"
    }
   ],
   "source": [
    "y_test"
   ]
  },
  {
   "cell_type": "code",
   "execution_count": null,
   "metadata": {
    "collapsed": true
   },
   "outputs": [],
   "source": []
  }
 ],
 "metadata": {
  "kernelspec": {
   "display_name": "Python 3",
   "language": "python",
   "name": "python3"
  },
  "language_info": {
   "codemirror_mode": {
    "name": "ipython",
    "version": 3
   },
   "file_extension": ".py",
   "mimetype": "text/x-python",
   "name": "python",
   "nbconvert_exporter": "python",
   "pygments_lexer": "ipython3",
   "version": "3.6.6"
  }
 },
 "nbformat": 4,
 "nbformat_minor": 2
}
